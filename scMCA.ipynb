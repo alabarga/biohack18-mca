{
 "cells": [
  {
   "cell_type": "code",
   "execution_count": 51,
   "metadata": {},
   "outputs": [],
   "source": [
    "import pandas as pd\n",
    "import json\n",
    "from io import StringIO"
   ]
  },
  {
   "cell_type": "code",
   "execution_count": 65,
   "metadata": {},
   "outputs": [
    {
     "name": "stdout",
     "output_type": "stream",
     "text": [
      "Populating the interactive namespace from numpy and matplotlib\n"
     ]
    },
    {
     "name": "stderr",
     "output_type": "stream",
     "text": [
      "/home/alabarga/NavarraBiomed/tesis/.tesis-env/lib/python3.6/site-packages/IPython/core/magics/pylab.py:160: UserWarning: pylab import has clobbered these variables: ['f']\n",
      "`%matplotlib` prevents importing * from pylab and numpy\n",
      "  \"\\n`%matplotlib` prevents importing * from pylab and numpy\"\n"
     ]
    }
   ],
   "source": [
    "%pylab inline\n",
    "pylab.rcParams['figure.figsize'] = (15, 6)\n",
    "import matplotlib.pyplot as plt"
   ]
  },
  {
   "cell_type": "code",
   "execution_count": 42,
   "metadata": {},
   "outputs": [],
   "source": [
    "mca_file = '../data/MCA_Figure2_Cell.csv'"
   ]
  },
  {
   "cell_type": "code",
   "execution_count": 43,
   "metadata": {},
   "outputs": [],
   "source": [
    "# pd.concat([df.query('col1 == 1') for df in pd.read_csv(StringIO(txt), chunksize=1)])"
   ]
  },
  {
   "cell_type": "code",
   "execution_count": 44,
   "metadata": {},
   "outputs": [],
   "source": [
    "metadata = pd.read_csv(mca_file, sep='\\t')"
   ]
  },
  {
   "cell_type": "code",
   "execution_count": 45,
   "metadata": {},
   "outputs": [
    {
     "data": {
      "text/html": [
       "<div>\n",
       "<style scoped>\n",
       "    .dataframe tbody tr th:only-of-type {\n",
       "        vertical-align: middle;\n",
       "    }\n",
       "\n",
       "    .dataframe tbody tr th {\n",
       "        vertical-align: top;\n",
       "    }\n",
       "\n",
       "    .dataframe thead th {\n",
       "        text-align: right;\n",
       "    }\n",
       "</style>\n",
       "<table border=\"1\" class=\"dataframe\">\n",
       "  <thead>\n",
       "    <tr style=\"text-align: right;\">\n",
       "      <th></th>\n",
       "      <th>Cell_ID</th>\n",
       "      <th>ClusterID</th>\n",
       "      <th>Tissue</th>\n",
       "      <th>Cell type</th>\n",
       "    </tr>\n",
       "  </thead>\n",
       "  <tbody>\n",
       "    <tr>\n",
       "      <th>0</th>\n",
       "      <td>Uterus_1.CTGTGTAAGTACAGGGTC</td>\n",
       "      <td>34</td>\n",
       "      <td>Uterus</td>\n",
       "      <td>Stromal cell</td>\n",
       "    </tr>\n",
       "    <tr>\n",
       "      <th>1</th>\n",
       "      <td>Uterus_2.GTAATGCCAGACCCGACG</td>\n",
       "      <td>17</td>\n",
       "      <td>Uterus</td>\n",
       "      <td>Endothelial cell</td>\n",
       "    </tr>\n",
       "    <tr>\n",
       "      <th>2</th>\n",
       "      <td>Uterus_1.AGGGTCAAGCGGAACGCC</td>\n",
       "      <td>34</td>\n",
       "      <td>Uterus</td>\n",
       "      <td>Stromal cell</td>\n",
       "    </tr>\n",
       "    <tr>\n",
       "      <th>3</th>\n",
       "      <td>Uterus_1.ATTCCACGAGTAATACAG</td>\n",
       "      <td>34</td>\n",
       "      <td>Uterus</td>\n",
       "      <td>Stromal cell</td>\n",
       "    </tr>\n",
       "    <tr>\n",
       "      <th>4</th>\n",
       "      <td>Uterus_1.ACACCCTTTAGGTAGCAT</td>\n",
       "      <td>81</td>\n",
       "      <td>Uterus</td>\n",
       "      <td>Principal cells of cortical collecting duct</td>\n",
       "    </tr>\n",
       "  </tbody>\n",
       "</table>\n",
       "</div>"
      ],
      "text/plain": [
       "                       Cell_ID  ClusterID  Tissue  \\\n",
       "0  Uterus_1.CTGTGTAAGTACAGGGTC         34  Uterus   \n",
       "1  Uterus_2.GTAATGCCAGACCCGACG         17  Uterus   \n",
       "2  Uterus_1.AGGGTCAAGCGGAACGCC         34  Uterus   \n",
       "3  Uterus_1.ATTCCACGAGTAATACAG         34  Uterus   \n",
       "4  Uterus_1.ACACCCTTTAGGTAGCAT         81  Uterus   \n",
       "\n",
       "                                     Cell type  \n",
       "0                                 Stromal cell  \n",
       "1                             Endothelial cell  \n",
       "2                                 Stromal cell  \n",
       "3                                 Stromal cell  \n",
       "4  Principal cells of cortical collecting duct  "
      ]
     },
     "execution_count": 45,
     "metadata": {},
     "output_type": "execute_result"
    }
   ],
   "source": [
    "metadata.head()"
   ]
  },
  {
   "cell_type": "code",
   "execution_count": 46,
   "metadata": {},
   "outputs": [
    {
     "data": {
      "text/plain": [
       "array(['Uterus', 'TrophoblastStemCells', 'Thymus', 'Testis', 'Stomach',\n",
       "       'Spleen', 'SmallIntestine', 'Prostate', 'Placenta',\n",
       "       'PeripheralBlood', 'Pancreas', 'Ovary', 'NeontalBrain',\n",
       "       'NeonatalSkin', 'NeonatalRib', 'NeonatalMuscle', 'NeonatalHeart',\n",
       "       'NeonatalCalvaria', 'Muscle', 'Mouse3T3',\n",
       "       'MesenchymalStemCellsPrimary', 'MesenchymalStemCells',\n",
       "       'MammaryGland.Virgin', 'MammaryGland.Pregnancy',\n",
       "       'MammaryGland.Lactation', 'MammaryGland.Involution',\n",
       "       'Male.fetal.Gonad', 'Lung', 'Liver', 'Kidney', 'FetalStomach',\n",
       "       'FetalLung', 'FetalLiver', 'FetalKidney', 'FetalIntestine',\n",
       "       'FetalBrain', 'Female.fetal.Gonad', 'EmbryonicStemCells',\n",
       "       'EmbryonicMesenchyme', 'Brain', 'BoneMarrowcKit', 'BoneMarrow',\n",
       "       'Bladder'], dtype=object)"
      ]
     },
     "execution_count": 46,
     "metadata": {},
     "output_type": "execute_result"
    }
   ],
   "source": [
    "metadata['Tissue'].unique()"
   ]
  },
  {
   "cell_type": "code",
   "execution_count": 47,
   "metadata": {},
   "outputs": [],
   "source": [
    "from ols import OlsClient\n",
    "ols = OlsClient()"
   ]
  },
  {
   "cell_type": "code",
   "execution_count": 48,
   "metadata": {},
   "outputs": [],
   "source": [
    "tissue_uberon = {}\n",
    "for tissue in metadata['Tissue'].unique():\n",
    "    tissue_uberon[tissue] = ols.advanced_search(tissue, ontology='uberon', first_iri=True, verbose=False)\n",
    "\n",
    "    "
   ]
  },
  {
   "cell_type": "code",
   "execution_count": 49,
   "metadata": {},
   "outputs": [
    {
     "data": {
      "text/plain": [
       "{'Uterus': 'http://purl.obolibrary.org/obo/UBERON_0000995',\n",
       " 'TrophoblastStemCells': '',\n",
       " 'Thymus': 'http://purl.obolibrary.org/obo/UBERON_0002370',\n",
       " 'Testis': 'http://purl.obolibrary.org/obo/UBERON_0000473',\n",
       " 'Stomach': 'http://purl.obolibrary.org/obo/UBERON_0000945',\n",
       " 'Spleen': 'http://purl.obolibrary.org/obo/UBERON_0002106',\n",
       " 'SmallIntestine': '',\n",
       " 'Prostate': 'http://purl.obolibrary.org/obo/UBERON_0002367',\n",
       " 'Placenta': 'http://purl.obolibrary.org/obo/UBERON_0001987',\n",
       " 'PeripheralBlood': '',\n",
       " 'Pancreas': 'http://purl.obolibrary.org/obo/UBERON_0001264',\n",
       " 'Ovary': 'http://purl.obolibrary.org/obo/UBERON_0000992',\n",
       " 'NeontalBrain': '',\n",
       " 'NeonatalSkin': '',\n",
       " 'NeonatalRib': '',\n",
       " 'NeonatalMuscle': '',\n",
       " 'NeonatalHeart': '',\n",
       " 'NeonatalCalvaria': '',\n",
       " 'Muscle': 'http://purl.obolibrary.org/obo/UBERON_0005090',\n",
       " 'Mouse3T3': '',\n",
       " 'MesenchymalStemCellsPrimary': '',\n",
       " 'MesenchymalStemCells': '',\n",
       " 'MammaryGland.Virgin': '',\n",
       " 'MammaryGland.Pregnancy': '',\n",
       " 'MammaryGland.Lactation': '',\n",
       " 'MammaryGland.Involution': '',\n",
       " 'Male.fetal.Gonad': '',\n",
       " 'Lung': 'http://purl.obolibrary.org/obo/UBERON_0002048',\n",
       " 'Liver': 'http://purl.obolibrary.org/obo/UBERON_0002107',\n",
       " 'Kidney': 'http://purl.obolibrary.org/obo/UBERON_0002113',\n",
       " 'FetalStomach': '',\n",
       " 'FetalLung': '',\n",
       " 'FetalLiver': '',\n",
       " 'FetalKidney': '',\n",
       " 'FetalIntestine': '',\n",
       " 'FetalBrain': '',\n",
       " 'Female.fetal.Gonad': '',\n",
       " 'EmbryonicStemCells': '',\n",
       " 'EmbryonicMesenchyme': '',\n",
       " 'Brain': 'http://purl.obolibrary.org/obo/UBERON_0000955',\n",
       " 'BoneMarrowcKit': '',\n",
       " 'BoneMarrow': '',\n",
       " 'Bladder': 'http://purl.obolibrary.org/obo/UBERON_0018707'}"
      ]
     },
     "execution_count": 49,
     "metadata": {},
     "output_type": "execute_result"
    }
   ],
   "source": [
    "tissue_uberon"
   ]
  },
  {
   "cell_type": "code",
   "execution_count": 55,
   "metadata": {},
   "outputs": [],
   "source": [
    "with open('../data/tissue_uberon.json','w') as f:\n",
    "    json.dump(tissue_uberon,f)"
   ]
  },
  {
   "cell_type": "code",
   "execution_count": 57,
   "metadata": {},
   "outputs": [],
   "source": [
    "with open('../data/tissue_uberon.json','r') as f:\n",
    "    tissue_uberon = json.load(f)"
   ]
  },
  {
   "cell_type": "code",
   "execution_count": 58,
   "metadata": {},
   "outputs": [
    {
     "data": {
      "text/plain": [
       "array(['Stromal cell', 'Endothelial cell',\n",
       "       'Principal cells of cortical collecting duct', 'Dendritic cell',\n",
       "       'Macrophage', 'Osteoblast', 'NK cell', 'Smooth muscle cell',\n",
       "       'Neutrophil', 'B cell', 'Muscle cell', 'Myocyte', 'Monocyte',\n",
       "       'T cell', 'Mast cell', 'Trophoblast stem cell', 'MSC (Cultured)',\n",
       "       'MEF (Cultured)', 'Trophoblast progenitor cell',\n",
       "       'Myeloid progenitor cell', 'Testicular cell', 'Leydig cell',\n",
       "       'Primordial germ cell', 'Gastric mucosa cell',\n",
       "       'Stomach epithelial cell', 'Endocrine cell', 'Epithelial cell',\n",
       "       'Neuron', 'Erythroid progenitor', 'Erythroblast', 'NK/T cell',\n",
       "       'Intestinal epithelial cell', 'Prostate gland cell', 'Urothelium',\n",
       "       'Placenta endodermal cell ', 'Decidual stromal cell',\n",
       "       'Spongiotrophoblast', 'Hepatocyte', 'Proliferating Myocyte',\n",
       "       'Microglia', 'Cycling cell', 'Myoblast', 'Pancreatic acinar cell',\n",
       "       'Luteal cell', 'Cumulus cell', 'Granulosa cell', 'Schwann cell',\n",
       "       'Oligodendrocyte', 'Proliferative neuron', 'Clara Cell',\n",
       "       'Astrocyte', 'Adipocyte', 'Chondrocyte', 'Cardiac muscle cell',\n",
       "       'Cartilage cell', '3T3 cell', 'Endothelial Cell',\n",
       "       'Secretory alveoli cell', 'Premeiotic germ cell', 'Sertoli cells',\n",
       "       'Kidney epithelial', 'Alveolar type II cell', 'Eosinophil',\n",
       "       'Renal tubular cell', 'Proximal tubule brush border cell',\n",
       "       'Intercalated cells of collecting duct', 'mESC'], dtype=object)"
      ]
     },
     "execution_count": 58,
     "metadata": {},
     "output_type": "execute_result"
    }
   ],
   "source": [
    "metadata['Cell type'].unique()"
   ]
  },
  {
   "cell_type": "code",
   "execution_count": 19,
   "metadata": {},
   "outputs": [],
   "source": [
    "cell_ontology = {}\n",
    "for cell_type in metadata['Cell type'].unique():\n",
    "    cell_ontology[cell_type] = ols.advanced_search(cell_type, ontology='cl', first_iri=True, verbose=False)\n"
   ]
  },
  {
   "cell_type": "code",
   "execution_count": 59,
   "metadata": {},
   "outputs": [
    {
     "data": {
      "text/plain": [
       "{'Stromal cell': 'http://purl.obolibrary.org/obo/CL_0000499',\n",
       " 'Endothelial cell': 'http://purl.obolibrary.org/obo/CL_0000115',\n",
       " 'Principal cells of cortical collecting duct': 'http://purl.obolibrary.org/obo/CL_1000714',\n",
       " 'Dendritic cell': 'http://purl.obolibrary.org/obo/CL_0000451',\n",
       " 'Macrophage': 'http://purl.obolibrary.org/obo/CL_0000235',\n",
       " 'Osteoblast': 'http://purl.obolibrary.org/obo/CL_0000062',\n",
       " 'NK cell': 'http://purl.obolibrary.org/obo/CL_0000623',\n",
       " 'Smooth muscle cell': 'http://purl.obolibrary.org/obo/CL_0000192',\n",
       " 'Neutrophil': 'http://purl.obolibrary.org/obo/CL_0000775',\n",
       " 'B cell': 'http://purl.obolibrary.org/obo/CL_0000236',\n",
       " 'Muscle cell': 'http://purl.obolibrary.org/obo/CL_0000187',\n",
       " 'Myocyte': 'http://purl.obolibrary.org/obo/CL_0000187',\n",
       " 'Monocyte': 'http://purl.obolibrary.org/obo/CL_0000576',\n",
       " 'T cell': 'http://purl.obolibrary.org/obo/CL_0000084',\n",
       " 'Mast cell': 'http://purl.obolibrary.org/obo/CL_0000097',\n",
       " 'Trophoblast stem cell': 'http://purl.obolibrary.org/obo/UBERON_0000088',\n",
       " 'MSC (Cultured)': 'http://purl.obolibrary.org/obo/CL_0000010',\n",
       " 'MEF (Cultured)': 'http://purl.obolibrary.org/obo/CL_0000010',\n",
       " 'Trophoblast progenitor cell': 'http://purl.obolibrary.org/obo/UBERON_0000088',\n",
       " 'Myeloid progenitor cell': 'http://purl.obolibrary.org/obo/CL_0000839',\n",
       " 'Testicular cell': 'http://purl.obolibrary.org/obo/cl.owl',\n",
       " 'Leydig cell': 'http://purl.obolibrary.org/obo/CL_0000178',\n",
       " 'Primordial germ cell': 'http://purl.obolibrary.org/obo/CL_0000670',\n",
       " 'Gastric mucosa cell': 'http://purl.obolibrary.org/obo/cl.owl',\n",
       " 'Stomach epithelial cell': 'http://purl.obolibrary.org/obo/CL_0002178',\n",
       " 'Endocrine cell': 'http://purl.obolibrary.org/obo/CL_0000163',\n",
       " 'Epithelial cell': 'http://purl.obolibrary.org/obo/CL_0000066',\n",
       " 'Neuron': 'http://purl.obolibrary.org/obo/CL_0000540',\n",
       " 'Erythroid progenitor': 'http://purl.obolibrary.org/obo/CL_0002361',\n",
       " 'Erythroblast': 'http://purl.obolibrary.org/obo/CL_0000765',\n",
       " 'NK/T cell': 'http://purl.obolibrary.org/obo/CL_0000914',\n",
       " 'Intestinal epithelial cell': 'http://purl.obolibrary.org/obo/CL_0002563',\n",
       " 'Prostate gland cell': 'http://purl.obolibrary.org/obo/CL_2000059',\n",
       " 'Urothelium': 'http://purl.obolibrary.org/obo/UBERON_0000365',\n",
       " 'Placenta endodermal cell ': 'http://purl.obolibrary.org/obo/CL_0000223',\n",
       " 'Decidual stromal cell': 'http://purl.obolibrary.org/obo/CL_0002343',\n",
       " 'Spongiotrophoblast': 'http://purl.obolibrary.org/obo/CL_0002499',\n",
       " 'Hepatocyte': 'http://purl.obolibrary.org/obo/CL_0000182',\n",
       " 'Proliferating Myocyte': 'http://purl.obolibrary.org/obo/UBERON_0034706',\n",
       " 'Microglia': 'http://purl.obolibrary.org/obo/CL_0000129',\n",
       " 'Cycling cell': 'http://purl.obolibrary.org/obo/cl.owl',\n",
       " 'Myoblast': 'http://purl.obolibrary.org/obo/CL_0000056',\n",
       " 'Pancreatic acinar cell': 'http://purl.obolibrary.org/obo/CL_0002064',\n",
       " 'Luteal cell': 'http://purl.obolibrary.org/obo/CL_0000175',\n",
       " 'Cumulus cell': 'http://purl.obolibrary.org/obo/CL_0000711',\n",
       " 'Granulosa cell': 'http://purl.obolibrary.org/obo/CL_0000501',\n",
       " 'Schwann cell': 'http://purl.obolibrary.org/obo/CL_0002573',\n",
       " 'Oligodendrocyte': 'http://purl.obolibrary.org/obo/CL_0000128',\n",
       " 'Proliferative neuron': 'http://purl.obolibrary.org/obo/CL_0000540',\n",
       " 'Clara Cell': 'http://purl.obolibrary.org/obo/CL_0000158',\n",
       " 'Astrocyte': 'http://purl.obolibrary.org/obo/CL_0000127',\n",
       " 'Adipocyte': 'http://purl.obolibrary.org/obo/CL_0001070',\n",
       " 'Chondrocyte': 'http://purl.obolibrary.org/obo/CL_0000138',\n",
       " 'Cardiac muscle cell': 'http://purl.obolibrary.org/obo/CL_0000746',\n",
       " 'Cartilage cell': 'http://purl.obolibrary.org/obo/CL_0000138',\n",
       " '3T3 cell': 'http://purl.obolibrary.org/obo/cl.owl',\n",
       " 'Endothelial Cell': 'http://purl.obolibrary.org/obo/CL_0000115',\n",
       " 'Secretory alveoli cell': 'http://purl.obolibrary.org/obo/CL_0000151',\n",
       " 'Premeiotic germ cell': 'http://purl.obolibrary.org/obo/CL_0000586',\n",
       " 'Sertoli cells': 'http://purl.obolibrary.org/obo/CL_0000216',\n",
       " 'Kidney epithelial': 'http://purl.obolibrary.org/obo/CL_0002518',\n",
       " 'Alveolar type II cell': 'http://purl.obolibrary.org/obo/CL_0002063',\n",
       " 'Eosinophil': 'http://purl.obolibrary.org/obo/CL_0000771',\n",
       " 'Renal tubular cell': 'http://purl.obolibrary.org/obo/cl.owl',\n",
       " 'Proximal tubule brush border cell': 'http://purl.obolibrary.org/obo/CL_0002307',\n",
       " 'Intercalated cells of collecting duct': 'http://purl.obolibrary.org/obo/CL_1001432',\n",
       " 'mESC': ''}"
      ]
     },
     "execution_count": 59,
     "metadata": {},
     "output_type": "execute_result"
    }
   ],
   "source": [
    "cell_ontology"
   ]
  },
  {
   "cell_type": "code",
   "execution_count": 100,
   "metadata": {},
   "outputs": [],
   "source": [
    "cell_ontology['mESC'] = 'http://purl.obolibrary.org/obo/CL_0002322'"
   ]
  },
  {
   "cell_type": "code",
   "execution_count": 101,
   "metadata": {},
   "outputs": [],
   "source": [
    "with open('../data/cell_ontology.json','w') as f:\n",
    "    json.dump(cell_ontology,f)"
   ]
  },
  {
   "cell_type": "code",
   "execution_count": 61,
   "metadata": {},
   "outputs": [],
   "source": [
    "with open('../data/cell_ontology.json','r') as f:\n",
    "    cell_ontology = json.load(f)"
   ]
  },
  {
   "cell_type": "code",
   "execution_count": 115,
   "metadata": {},
   "outputs": [
    {
     "data": {
      "text/plain": [
       "[('Uterus_1.CTGTGTAAGTACAGGGTC', 'Stromal cell'),\n",
       " ('Uterus_2.GTAATGCCAGACCCGACG', 'Endothelial cell'),\n",
       " ('Uterus_1.AGGGTCAAGCGGAACGCC', 'Stromal cell'),\n",
       " ('Uterus_1.ATTCCACGAGTAATACAG', 'Stromal cell'),\n",
       " ('Uterus_1.ACACCCTTTAGGTAGCAT',\n",
       "  'Principal cells of cortical collecting duct')]"
      ]
     },
     "execution_count": 115,
     "metadata": {},
     "output_type": "execute_result"
    }
   ],
   "source": [
    "[(row[0], row[1]) for i, row in metadata[['Cell_ID','Cell type']].head().iterrows()]"
   ]
  },
  {
   "cell_type": "code",
   "execution_count": 121,
   "metadata": {},
   "outputs": [],
   "source": [
    "annotated_cells = [OrderedDict({\n",
    "        'cell': row[0],\n",
    "        'cell type' : row[1],\n",
    "        'cell_ontology': cell_ontology[row[1]]}) for i, row in metadata[['Cell_ID','Cell type']].iterrows()]\n",
    "\n"
   ]
  },
  {
   "cell_type": "code",
   "execution_count": 122,
   "metadata": {},
   "outputs": [],
   "source": [
    "pd.DataFrame(annotated_cells).to_csv('../data/annotated_cells.csv', index=False)"
   ]
  },
  {
   "cell_type": "code",
   "execution_count": 109,
   "metadata": {},
   "outputs": [],
   "source": [
    "metadata[['Tissue','Cell type']].drop_duplicates().to_csv(\"../data/tissue_cell.csv\", index=False)"
   ]
  },
  {
   "cell_type": "code",
   "execution_count": 20,
   "metadata": {},
   "outputs": [],
   "source": [
    "import requests\n",
    "\n",
    "sparql_endpoint = 'https://sparql.uniprot.org/sparql'\n",
    "query = \"\"\"\n",
    "PREFIX up:<http://purl.uniprot.org/core/> \n",
    "PREFIX taxon:<http://purl.uniprot.org/taxonomy/> \n",
    "SELECT ?protein ?common_name ?gene\n",
    "WHERE\n",
    "{\n",
    "    ?protein a up:Protein ;\n",
    "     up:organism taxon:10090 ; \n",
    "     up:mnemonic ?common_name ;\n",
    "     up:encodedBy $gene .\n",
    "    ?gene a up:Gene ;\n",
    "     up:\n",
    "}\n",
    "\"\"\"\n",
    "r = requests.get(sparql_endpoint, params = {'format': 'json', 'query': query})\n",
    "data = r.json()\n"
   ]
  },
  {
   "cell_type": "code",
   "execution_count": 78,
   "metadata": {},
   "outputs": [],
   "source": [
    "import requests\n",
    "\n",
    "sparql_endpoint = 'https://sparql.uniprot.org/sparql'\n",
    "query = \"\"\"\n",
    "PREFIX skos:<http://www.w3.org/2004/02/skos/core#> \n",
    "PREFIX up:<http://purl.uniprot.org/core/> \n",
    "PREFIX taxon:<http://purl.uniprot.org/taxonomy/> \n",
    "SELECT *\n",
    "WHERE\n",
    "{\n",
    "    ?protein a up:Protein ;\n",
    "         up:organism taxon:10090 ; \n",
    "         up:encodedBy ?gene .\n",
    "    ?gene skos:prefLabel ?preferredGeneName .\n",
    "\n",
    "}\n",
    "\n",
    "\"\"\"\n",
    "r = requests.get(sparql_endpoint, params = {'format': 'json', 'query': query})\n",
    "data = r.json()"
   ]
  },
  {
   "cell_type": "code",
   "execution_count": 79,
   "metadata": {},
   "outputs": [
    {
     "data": {
      "text/plain": [
       "81858"
      ]
     },
     "execution_count": 79,
     "metadata": {},
     "output_type": "execute_result"
    }
   ],
   "source": [
    "len(data['results']['bindings'])"
   ]
  },
  {
   "cell_type": "code",
   "execution_count": 81,
   "metadata": {},
   "outputs": [
    {
     "data": {
      "text/plain": [
       "{'preferredGeneName': {'type': 'literal', 'value': 'Htr1d'},\n",
       " 'gene': {'type': 'uri',\n",
       "  'value': 'http://purl.uniprot.org/uniprot/Q61224#gene-MD5EAA4AA6A4D3F7DD4332ABA4474640B9E'},\n",
       " 'protein': {'type': 'uri', 'value': 'http://purl.uniprot.org/uniprot/Q61224'}}"
      ]
     },
     "execution_count": 81,
     "metadata": {},
     "output_type": "execute_result"
    }
   ],
   "source": [
    "data['results']['bindings'][0]"
   ]
  },
  {
   "cell_type": "code",
   "execution_count": 82,
   "metadata": {},
   "outputs": [],
   "source": [
    "from collections import OrderedDict\n",
    "\n",
    "genes = []\n",
    "for item in data['results']['bindings']:\n",
    "    genes.append(OrderedDict({\n",
    "        'gene': item['preferredGeneName']['value'],\n",
    "        'protein': item['protein']['value']}))"
   ]
  },
  {
   "cell_type": "code",
   "execution_count": 83,
   "metadata": {},
   "outputs": [],
   "source": [
    "with open('../data/uniprot.json','w') as f:\n",
    "    json.dump(genes,f)"
   ]
  },
  {
   "cell_type": "code",
   "execution_count": 84,
   "metadata": {},
   "outputs": [],
   "source": [
    "with open('../data/uniprot.json','r') as f:\n",
    "    genes = json.load(f)"
   ]
  },
  {
   "cell_type": "code",
   "execution_count": 85,
   "metadata": {},
   "outputs": [
    {
     "data": {
      "text/html": [
       "<div>\n",
       "<style scoped>\n",
       "    .dataframe tbody tr th:only-of-type {\n",
       "        vertical-align: middle;\n",
       "    }\n",
       "\n",
       "    .dataframe tbody tr th {\n",
       "        vertical-align: top;\n",
       "    }\n",
       "\n",
       "    .dataframe thead th {\n",
       "        text-align: right;\n",
       "    }\n",
       "</style>\n",
       "<table border=\"1\" class=\"dataframe\">\n",
       "  <thead>\n",
       "    <tr style=\"text-align: right;\">\n",
       "      <th></th>\n",
       "      <th>gene</th>\n",
       "      <th>protein</th>\n",
       "    </tr>\n",
       "  </thead>\n",
       "  <tbody>\n",
       "    <tr>\n",
       "      <th>0</th>\n",
       "      <td>Htr1d</td>\n",
       "      <td>http://purl.uniprot.org/uniprot/Q61224</td>\n",
       "    </tr>\n",
       "    <tr>\n",
       "      <th>1</th>\n",
       "      <td>Apbb1ip</td>\n",
       "      <td>http://purl.uniprot.org/uniprot/Q8R5A3</td>\n",
       "    </tr>\n",
       "    <tr>\n",
       "      <th>2</th>\n",
       "      <td>Adam10</td>\n",
       "      <td>http://purl.uniprot.org/uniprot/O35598</td>\n",
       "    </tr>\n",
       "    <tr>\n",
       "      <th>3</th>\n",
       "      <td>Adam5</td>\n",
       "      <td>http://purl.uniprot.org/uniprot/Q3TTE0</td>\n",
       "    </tr>\n",
       "    <tr>\n",
       "      <th>4</th>\n",
       "      <td>Adam1a</td>\n",
       "      <td>http://purl.uniprot.org/uniprot/Q60813</td>\n",
       "    </tr>\n",
       "  </tbody>\n",
       "</table>\n",
       "</div>"
      ],
      "text/plain": [
       "      gene                                 protein\n",
       "0    Htr1d  http://purl.uniprot.org/uniprot/Q61224\n",
       "1  Apbb1ip  http://purl.uniprot.org/uniprot/Q8R5A3\n",
       "2   Adam10  http://purl.uniprot.org/uniprot/O35598\n",
       "3    Adam5  http://purl.uniprot.org/uniprot/Q3TTE0\n",
       "4   Adam1a  http://purl.uniprot.org/uniprot/Q60813"
      ]
     },
     "execution_count": 85,
     "metadata": {},
     "output_type": "execute_result"
    }
   ],
   "source": [
    "df = pd.DataFrame(genes)\n",
    "# df.set_index('protein', inplace=True)\n",
    "# df = df.astype({'gene': float, 'area': float, 'medianIncome': float, 'age': float})\n",
    "df.head()"
   ]
  },
  {
   "cell_type": "code",
   "execution_count": 86,
   "metadata": {},
   "outputs": [],
   "source": [
    "uniprot_genes = df['gene'].unique()"
   ]
  },
  {
   "cell_type": "code",
   "execution_count": 89,
   "metadata": {},
   "outputs": [
    {
     "data": {
      "text/plain": [
       "array(['Htr1d', 'Apbb1ip', 'Adam10', ..., '3110018I06Rik',\n",
       "       '1700086D15Rik', 'Gm9918'], dtype=object)"
      ]
     },
     "execution_count": 89,
     "metadata": {},
     "output_type": "execute_result"
    }
   ],
   "source": [
    "uniprot_genes"
   ]
  },
  {
   "cell_type": "code",
   "execution_count": 90,
   "metadata": {},
   "outputs": [],
   "source": [
    "df.to_csv('../data/gene_proten_mapping.csv')"
   ]
  },
  {
   "cell_type": "code",
   "execution_count": 91,
   "metadata": {},
   "outputs": [],
   "source": [
    "annotated_genes = [gene for gene in mca_data.index if gene in uniprot_genes]"
   ]
  },
  {
   "cell_type": "code",
   "execution_count": 94,
   "metadata": {},
   "outputs": [
    {
     "data": {
      "text/plain": [
       "18406"
      ]
     },
     "execution_count": 94,
     "metadata": {},
     "output_type": "execute_result"
    }
   ],
   "source": [
    "len(annotated_genes)"
   ]
  },
  {
   "cell_type": "code",
   "execution_count": 97,
   "metadata": {},
   "outputs": [
    {
     "data": {
      "text/plain": [
       "(25133, 1500)"
      ]
     },
     "execution_count": 97,
     "metadata": {},
     "output_type": "execute_result"
    }
   ],
   "source": [
    "mca_data.shape"
   ]
  },
  {
   "cell_type": "code",
   "execution_count": 95,
   "metadata": {},
   "outputs": [],
   "source": [
    "mca_annotated = mca_data[mca_data.index.isin(annotated_genes)]"
   ]
  },
  {
   "cell_type": "code",
   "execution_count": 99,
   "metadata": {},
   "outputs": [
    {
     "data": {
      "text/plain": [
       "(18406, 1500)"
      ]
     },
     "execution_count": 99,
     "metadata": {},
     "output_type": "execute_result"
    }
   ],
   "source": [
    "mca_annotated.shape"
   ]
  },
  {
   "cell_type": "code",
   "execution_count": 98,
   "metadata": {},
   "outputs": [],
   "source": [
    "mca_annotated.to_csv('../data/mca_annotated.csv')"
   ]
  },
  {
   "cell_type": "code",
   "execution_count": 66,
   "metadata": {},
   "outputs": [
    {
     "data": {
      "image/png": "[encoded data removed]",
      "text/plain": [
       "<Figure size 1080x432 with 1 Axes>"
      ]
     },
     "metadata": {},
     "output_type": "display_data"
    }
   ],
   "source": [
    "metadata['Cell type'].value_counts().plot(kind='bar')\n",
    "plt.show()"
   ]
  },
  {
   "cell_type": "code",
   "execution_count": 12,
   "metadata": {},
   "outputs": [
    {
     "data": {
      "image/png": "[encoded data removed]",
      "text/plain": [
       "<Figure size 1080x432 with 1 Axes>"
      ]
     },
     "metadata": {},
     "output_type": "display_data"
    }
   ],
   "source": [
    "metadata['Tissue'].value_counts().plot(kind='bar')\n",
    "plt.show()"
   ]
  },
  {
   "cell_type": "code",
   "execution_count": 13,
   "metadata": {},
   "outputs": [
    {
     "data": {
      "image/png": "[encoded data removed]",
      "text/plain": [
       "<Figure size 1080x432 with 1 Axes>"
      ]
     },
     "metadata": {},
     "output_type": "display_data"
    }
   ],
   "source": [
    "metadata.groupby(['Tissue','Cell type'])['Cell_ID'].size().unstack().plot(kind='bar',stacked=True,legend=None)\n",
    "plt.show()"
   ]
  },
  {
   "cell_type": "code",
   "execution_count": 63,
   "metadata": {},
   "outputs": [],
   "source": [
    "brain_samples = metadata.loc[metadata['Tissue'] == 'Brain']"
   ]
  },
  {
   "cell_type": "code",
   "execution_count": 67,
   "metadata": {},
   "outputs": [
    {
     "data": {
      "image/png": "[encoded data removed]",
      "text/plain": [
       "<Figure size 1080x432 with 1 Axes>"
      ]
     },
     "metadata": {},
     "output_type": "display_data"
    }
   ],
   "source": [
    "brain_samples['Cell type'].value_counts().plot(kind='bar')\n",
    "plt.show()"
   ]
  },
  {
   "cell_type": "code",
   "execution_count": 16,
   "metadata": {},
   "outputs": [
    {
     "data": {
      "text/plain": [
       "['Brain_1.TCTACCTTTAGGGAGATC',\n",
       " 'Brain_1.TAAGGGATGCTTGAATTA',\n",
       " 'Brain_1.CCAGACTGTGCGAACGCC',\n",
       " 'Brain_1.ATTCCACGTGGCCCTTTC',\n",
       " 'Brain_1.GAATTACTCCATATCTCT',\n",
       " 'Brain_1.TAGCATGAGGAGGAACGC',\n",
       " 'Brain_2.ACTTATGTATACCCTTTC',\n",
       " 'Brain_2.CGAGTAAGTTTATGCAAT',\n",
       " 'Brain_1.TAGAGAGGGCGAACCTGA',\n",
       " 'Brain_1.CTCCATAACCTAGTTGCC',\n",
       " 'Brain_1.AAAACGAAAGTTAAAACG',\n",
       " 'Brain_1.CATGATGCGTCCCGTGGC',\n",
       " 'Brain_1.TTCCGCGCTCAACCAGAC',\n",
       " 'Brain_1.TCTACCATGGCGGCCTAG',\n",
       " 'Brain_2.AACGCCGTGGTATGAAGC',\n",
       " 'Brain_2.AGCGAGCACAAGCAAAGT',\n",
       " 'Brain_1.GCTGTGGTCCCGGTCGGT',\n",
       " 'Brain_1.CCAGACTGAAGCTCAAAG',\n",
       " 'Brain_1.AGTTTAACACCCAAAGTT',\n",
       " 'Brain_1.AGTTTAAACGCCGGCTGC',\n",
       " 'Brain_1.TAAGGGATCAACATGCTT',\n",
       " 'Brain_2.GAGGAGTAGCATTAGAGA',\n",
       " 'Brain_1.TATGTAACGTTGAAAGTT',\n",
       " 'Brain_1.AATAAAAGGGTCTTAACT',\n",
       " 'Brain_1.CTGTGTCTGAAACGCACC',\n",
       " 'Brain_1.TACTTCCGTGGCCTGTGT',\n",
       " 'Brain_1.TGCGGATTGGACACGTTG',\n",
       " 'Brain_1.GCGAATAAGTACTTCCGC',\n",
       " 'Brain_1.CTCGCACGAGTATTCCGC',\n",
       " 'Brain_1.TTTAGGGAGGAGAGTTTA',\n",
       " 'Brain_1.GCGAATACACCCCGTGGC',\n",
       " 'Brain_1.CTCCATTTCATAGCCCTC',\n",
       " 'Brain_1.CCTAGAGCTGTGGCCTAG',\n",
       " 'Brain_1.AAAACGGCGTCCATGGCG',\n",
       " 'Brain_1.AGCGAGTTTAGGAAGTAC',\n",
       " 'Brain_1.CCGCTAGTATACAGATGG',\n",
       " 'Brain_2.GTGGTACCAGACGTCCCG',\n",
       " 'Brain_1.ATGCTTTAGTCGGCCTAG',\n",
       " 'Brain_1.TAGCATCTCGCAGTTGCC',\n",
       " 'Brain_1.AGATGGTTTAGGGAATTA',\n",
       " 'Brain_1.ATGCTTAAGTACGCGTCC',\n",
       " 'Brain_1.CAACAAATGCTTATGGCG',\n",
       " 'Brain_2.ATCAACGCAGGATAAGGG',\n",
       " 'Brain_2.TCAAAGGATCTTTGGATG',\n",
       " 'Brain_1.CTCGCAAAAGTTCCTAGA',\n",
       " 'Brain_1.TTAACTATGGCGAGTTTA',\n",
       " 'Brain_1.TGATCATCGTAATTCCGC',\n",
       " 'Brain_1.CCAGACAACCTAGGTACA',\n",
       " 'Brain_1.CCGCTAGTGGTATGCAAT',\n",
       " 'Brain_2.CAAAGTGCTGTGCCATCT',\n",
       " 'Brain_2.GCCTAGAACGCCTGTGCG',\n",
       " 'Brain_1.GCGAATGAGATCGCTCAA',\n",
       " 'Brain_1.AGCGAGCTCCATGCTGTG',\n",
       " 'Brain_1.CTCGCAGAGATCAACCTA',\n",
       " 'Brain_1.TATGTAAAAACGAATAAA',\n",
       " 'Brain_2.AAAACGCGCTTGTTCATA',\n",
       " 'Brain_1.AGTCGTAATAAAGTAATG',\n",
       " 'Brain_1.GAACGCAGTTTAGCGTCC',\n",
       " 'Brain_1.TACTTCTCAAAGGTATAC',\n",
       " 'Brain_1.ATTCCATGGATGTGGATG',\n",
       " 'Brain_1.CTGTGTCGCTTGATCTCT',\n",
       " 'Brain_1.AAAACGGTCCCGTGCAAT',\n",
       " 'Brain_1.GCGTCCAGTTTAGTATAC',\n",
       " 'Brain_2.CGGCAGCGCTTGCGTATT',\n",
       " 'Brain_1.TGCGGATGCAATGTATAC',\n",
       " 'Brain_1.GAACGCCCATCTGATCTT',\n",
       " 'Brain_1.CTGTGTGAACGCTCAAAG',\n",
       " 'Brain_1.AAAGTTACACCCATGGCG',\n",
       " 'Brain_1.GAATTACCGCTATTCCGC',\n",
       " 'Brain_1.CTTCTGAGTTTATAGTCG',\n",
       " 'Brain_1.ACTTATCAACAAGTCGGT',\n",
       " 'Brain_1.AAGCGGAACCTAAACGCC',\n",
       " 'Brain_1.CCTAGACTCCATTCAAAG',\n",
       " 'Brain_1.ACCTGAAGGACTTCACTT',\n",
       " 'Brain_2.AAAGTTGCCCTCAAAACG',\n",
       " 'Brain_1.ATGGCGGAGATCAGGACT',\n",
       " 'Brain_2.CCGACGTATGTAGAGGAG',\n",
       " 'Brain_1.GTATACGGGTTTGAGATC',\n",
       " 'Brain_1.CCTTTCGCCTAGTTCCGC',\n",
       " 'Brain_1.CCTAGAGTAATGTGGATG',\n",
       " 'Brain_2.GCCCTCGGGTTTGGGTTT',\n",
       " 'Brain_2.ATTCCATAGAGAAAAACG',\n",
       " 'Brain_1.CACAAGTCGTAACGTGGC',\n",
       " 'Brain_1.TATGTAAAAACGCTCGCA',\n",
       " 'Brain_1.CTCGCATTGGACTATGTA',\n",
       " 'Brain_1.CTCGCATCGTAAGAACGC',\n",
       " 'Brain_1.AGTCGTGTCGGTGCTGTG',\n",
       " 'Brain_1.CCTTTCGTAATGGCTGTG',\n",
       " 'Brain_1.TGGATGAAAGTTATACAG',\n",
       " 'Brain_1.CATCCCGAATTAAATAAA',\n",
       " 'Brain_2.AAGCGGACTTATTGTGCG',\n",
       " 'Brain_2.GCTCAAGCGAATAAGTAC',\n",
       " 'Brain_1.TATTGTCTCCATGCTCAA',\n",
       " 'Brain_1.CCAGACGAATTAATGGCG',\n",
       " 'Brain_1.AGCGAGTTTAGGACGTTG',\n",
       " 'Brain_2.ATCAACATTTGCAAAGTT',\n",
       " 'Brain_1.TTAACTCAACAACGTGGC',\n",
       " 'Brain_2.CCGCTATACTTCCAAAGT',\n",
       " 'Brain_1.CTCGCATAAGGGTACTTC',\n",
       " 'Brain_1.TTAACTGCTGTGGCTCAA',\n",
       " 'Brain_1.GCAGGATACTTCGGTACA',\n",
       " 'Brain_1.GCGTCCGAGATCCTCGCA',\n",
       " 'Brain_1.ATGCTTCGCTTGTAGTCG',\n",
       " 'Brain_1.GGACATATCTCTTGTCAC',\n",
       " 'Brain_1.CCGCTAACAATAAATAAA',\n",
       " 'Brain_1.GAATTAACACCCACACCC',\n",
       " 'Brain_2.GCGTCCATCTCTACCTGA',\n",
       " 'Brain_1.AGTTTAGAGGAGACACCC',\n",
       " 'Brain_2.CTGAAAACGTTGCGTATT',\n",
       " 'Brain_2.TCTACCGTGGTACATCCC',\n",
       " 'Brain_1.ATCAACAGTTTACGTGGC',\n",
       " 'Brain_1.CTCGCAATACAGAACGCC',\n",
       " 'Brain_1.CTGAAAGAACGCCTGAAA',\n",
       " 'Brain_2.ACGTTGGCCCTCCATCCC',\n",
       " 'Brain_1.GAATTATAGCATCCGACG',\n",
       " 'Brain_1.AAAACGCGAGTAATCAAC',\n",
       " 'Brain_1.ATCAACACACCCATTTGC',\n",
       " 'Brain_1.CTCGCATAAGGGTGGATG',\n",
       " 'Brain_1.GCAGGAGTCGGTAGGACT',\n",
       " 'Brain_2.AAGCGGAATAAACGCTTG',\n",
       " 'Brain_1.TCGGGTAGTCGTGTATAC',\n",
       " 'Brain_1.AACGCCATTCCACACAAG',\n",
       " 'Brain_1.TTAACTGAATTATAGAGA',\n",
       " 'Brain_1.CACAAGACACCCATACAG',\n",
       " 'Brain_1.TAGTCGCCGCTATAGCAT',\n",
       " 'Brain_1.GTAATGGTCGGTACAATA',\n",
       " 'Brain_1.GACACTAGATGGTCGGGT',\n",
       " 'Brain_1.ATGGCGGTAATGTGAAGC',\n",
       " 'Brain_1.ACACCCTCGTAATACTTC',\n",
       " 'Brain_1.ACTTATGAACGCTCGTAA',\n",
       " 'Brain_1.CTGTGTTGGATGCTGTGT',\n",
       " 'Brain_1.CAACAAAAGCGGATACAG',\n",
       " 'Brain_1.TATGTAACCTGATGAAGC',\n",
       " 'Brain_1.TTAACTTCTACCTACTTC',\n",
       " 'Brain_1.AAAACGGATCTTGAGGAG',\n",
       " 'Brain_1.ACCTGAGGACATGCTCAA',\n",
       " 'Brain_1.GGGTTTCCATCTCTCCAT',\n",
       " 'Brain_1.CGCACCACGTTGGAACGC',\n",
       " 'Brain_2.GATCTTTTGGACAACCTA',\n",
       " 'Brain_1.GAATTAAGGACTTCACTT',\n",
       " 'Brain_1.TATGTAGAGGAGCTTCTG',\n",
       " 'Brain_1.TCTACCGCAGGAAGGGTC',\n",
       " 'Brain_2.CTCGCACGCACCCATGAT',\n",
       " 'Brain_1.CTCCATCGTATTGTAATG',\n",
       " 'Brain_1.GAGATCATGCTTATCAAC',\n",
       " 'Brain_1.CGAGTATAGAGAAATAAA',\n",
       " 'Brain_2.AAGCGGGGACATGCGTCC',\n",
       " 'Brain_2.CCGACGACCTGAGATCTT',\n",
       " 'Brain_1.GCCCTCAACCTATAGTCG',\n",
       " 'Brain_1.TAGAGATTCATAATCAAC',\n",
       " 'Brain_1.CCATCTTAGAGATATTGT',\n",
       " 'Brain_1.CTCCATTAGAGAGTATAC',\n",
       " 'Brain_1.CCTAGACCGACGTTCATA',\n",
       " 'Brain_1.AAAGTTGATCTTAACGCC',\n",
       " 'Brain_1.GCGAATAGGACTAGTTTA',\n",
       " 'Brain_2.TAAGGGGCAGGACGCTTG',\n",
       " 'Brain_1.GCGTCCCCAGACCATCCC',\n",
       " 'Brain_1.GGACATACGAGCTCACTT',\n",
       " 'Brain_2.CTGAAAGAATTATCGTAA',\n",
       " 'Brain_2.TAAGGGGCAGGAGCAGGA',\n",
       " 'Brain_2.AGGACTTGAAGCGAGATC',\n",
       " 'Brain_1.ACAATACCGACGGCCCTC',\n",
       " 'Brain_1.ATGCTTGGACATGTATAC',\n",
       " 'Brain_2.GAGGAGAAGCGGAGTCGT',\n",
       " 'Brain_1.GAGATCTTCCGCAATAAA',\n",
       " 'Brain_1.TACTTCAACCTATAAGGG',\n",
       " 'Brain_2.ACTTATCAACAAAGTTTA',\n",
       " 'Brain_1.ATCAACCGTATTCATCCC',\n",
       " 'Brain_1.CTTCTGAACCTAGTGGTA',\n",
       " 'Brain_1.ATGGCGCTCGCAGGGCGA',\n",
       " 'Brain_2.AGTTTAGTATACGCGTCC',\n",
       " 'Brain_1.TATGTAAGCGAGGAGATC',\n",
       " 'Brain_1.TGATCAACCTGACAAAGT',\n",
       " 'Brain_1.GTCCCGACGAGCAAAGTT',\n",
       " 'Brain_1.ATCAACGTTGCCGACACT',\n",
       " 'Brain_1.TGCAATCCTAGAACCTGA',\n",
       " 'Brain_1.TAAGGGACTTATACAATA',\n",
       " 'Brain_2.ACGTTGCACAAGTGCGGA',\n",
       " 'Brain_1.AGGACTTAGAGATGTGCG',\n",
       " 'Brain_2.CAAAGTATGGCGTAGCAT',\n",
       " 'Brain_1.TTGGACCCGACGGCTGTG',\n",
       " 'Brain_1.CTGTGTTGCGGAACTTAT',\n",
       " 'Brain_2.ATACAGGGGTTTGCAGGA',\n",
       " 'Brain_1.GCCTAGAAGCGGCCATCT',\n",
       " 'Brain_1.TCTACCGCTGTGACCTGA',\n",
       " 'Brain_1.TAGAGAACACCCTAGAGA',\n",
       " 'Brain_1.CTCGCAAGATGGGTAATG',\n",
       " 'Brain_1.GCTGTGGGACATAGTTTA',\n",
       " 'Brain_1.AACGCCGGTACAAAAGTT',\n",
       " 'Brain_1.CGAGTAGTTGCCTCGGGT',\n",
       " 'Brain_1.CTCGCAGGACATTCTACC',\n",
       " 'Brain_1.TTAACTGCGTCCCTCGCA',\n",
       " 'Brain_1.CCATCTGAACGCCGTATT',\n",
       " 'Brain_1.TAGCATACACCCACTTAT',\n",
       " 'Brain_1.CCGACGAATAAATTCATA',\n",
       " 'Brain_2.ACCTGATCACTTGGCTGC',\n",
       " 'Brain_2.GCCCTCTTAACTAACCTA',\n",
       " 'Brain_2.GCCCTCCCATCTAGTCGT',\n",
       " 'Brain_2.CAAAGTGATCTTTTCATA',\n",
       " 'Brain_1.TACTTCGAATTATGTGCG',\n",
       " 'Brain_1.GGGTTTGGCTGCTCAAAG',\n",
       " 'Brain_2.TCGTAAGGGTTTAGTCGT',\n",
       " 'Brain_2.TAGAGAGCGTCCATTTGC',\n",
       " 'Brain_2.GTATACTATTGTAACGCC',\n",
       " 'Brain_2.ATACAGTAGCATAGGGTC',\n",
       " 'Brain_1.TGAAGCATGCTTCCTTTC',\n",
       " 'Brain_1.GAACGCTGAAGCTTCCGC',\n",
       " 'Brain_1.CAACAACATGATAGCGAG',\n",
       " 'Brain_1.CTCGCATACTTCGTATAC',\n",
       " 'Brain_1.CAAAGTACACCCCCTTTC',\n",
       " 'Brain_1.TATGTAGAGATCCCGCTA',\n",
       " 'Brain_1.ATCTCTAGCGAGAGCGAG',\n",
       " 'Brain_1.CTTCTGAACGCCCAAAGT',\n",
       " 'Brain_1.GCCTAGCAAAGTAGCGAG',\n",
       " 'Brain_2.TTAACTCATCCCGAGATC',\n",
       " 'Brain_1.TCTACCTTCCGCATGGCG',\n",
       " 'Brain_1.AAAACGATCAACTTCATA',\n",
       " 'Brain_1.CCGCTAACACCCTTCCGC',\n",
       " 'Brain_1.CTGAAAACTTATGAGATC',\n",
       " 'Brain_1.TACTTCAACCTACGCTTG',\n",
       " 'Brain_1.TACTTCTATTGTGCCTAG',\n",
       " 'Brain_1.CGCACCAGTCGTCTGAAA',\n",
       " 'Brain_1.AAAACGGGTACAGACACT',\n",
       " 'Brain_1.ACGTTGTGCGGATCAAAG',\n",
       " 'Brain_1.GCTGTGAGTTTAAGGGTC',\n",
       " 'Brain_1.CCATCTTGGATGTTAACT',\n",
       " 'Brain_1.ATCAACTCAAAGCCAGAC',\n",
       " 'Brain_1.CCATCTACACCCACGTTG',\n",
       " 'Brain_2.AAGCGGGTCGGTCGAGTA',\n",
       " 'Brain_1.GTCCCGTCACTTAGCGAG',\n",
       " 'Brain_1.CAAAGTCGTATTACCTGA',\n",
       " 'Brain_1.ATTCCAGGCTGCGTTGCC',\n",
       " 'Brain_1.GGGCGAACAATACAAAGT',\n",
       " 'Brain_1.GCGAATAAAGTTTCAAAG',\n",
       " 'Brain_1.CTCGCAACTTATCTTCTG',\n",
       " 'Brain_1.GGTACAGGTACAAACGCC',\n",
       " 'Brain_1.ATCAACTGGATGGGCTGC',\n",
       " 'Brain_1.TGTGCGAGGACTTCAAAG',\n",
       " 'Brain_1.ACCTGACTCCATGGGTTT',\n",
       " 'Brain_1.CTCGCACCTAGACTTCTG',\n",
       " 'Brain_2.CGAGTAACACCCGGCTGC',\n",
       " 'Brain_1.GAGGAGTCTACCGCCTAG',\n",
       " 'Brain_2.ACCTGACCGCTATGGATG',\n",
       " 'Brain_1.CATGATTGGATGTCGTAA',\n",
       " 'Brain_2.GAGGAGCAAAGTAACCTA',\n",
       " 'Brain_1.AGTTTAATGGCGTAGTCG',\n",
       " 'Brain_2.AAGCGGGGGTTTGCTCAA',\n",
       " 'Brain_1.ATTCCAATCTCTATGGCG',\n",
       " 'Brain_1.ATTCCATACTTCCTCGCA',\n",
       " 'Brain_2.ACGTTGCGCACCATTTGC',\n",
       " 'Brain_2.AACGCCGAATTAAACGCC',\n",
       " 'Brain_1.ATACAGAGATGGTCAAAG',\n",
       " 'Brain_1.ACGTTGTCAAAGAACGCC',\n",
       " 'Brain_1.TTAACTAAAGTTGCAGGA',\n",
       " 'Brain_1.CTCGCAAAGCGGTATGTA',\n",
       " 'Brain_1.CGCTTGGCGAATTTCCGC',\n",
       " 'Brain_1.TGCAATGCTGTGTGTCAC',\n",
       " 'Brain_1.AACGCCCTTCTGTTGGAC',\n",
       " 'Brain_1.GATCTTGTCGGTGCCTAG',\n",
       " 'Brain_2.ACCTGAGAGATCCCATCT',\n",
       " 'Brain_2.CTGTGTACACCCGAGGAG',\n",
       " 'Brain_1.TACTTCGATCTTCCTTTC',\n",
       " 'Brain_1.CCTAGAATACAGTGCGGA',\n",
       " 'Brain_1.CCGCTATAGCATGAACGC',\n",
       " 'Brain_2.CTCGCAGGGCGAATTTGC',\n",
       " 'Brain_2.ACAATATGTGCGCTCCAT',\n",
       " 'Brain_1.AAGTACATCAACAATAAA',\n",
       " 'Brain_1.ATCAACTATTGTCTTCTG',\n",
       " 'Brain_1.TTCATAGACACTGCTGTG',\n",
       " 'Brain_1.TCTACCAGTCGTTGTCAC',\n",
       " 'Brain_2.TCACTTCCATCTGGTACA',\n",
       " 'Brain_1.CGGCAGAAAACGAGGACT',\n",
       " 'Brain_1.TATGTACCGCTAGACACT',\n",
       " 'Brain_2.ACAATAGAGGAGGAGATC',\n",
       " 'Brain_1.AGGACTTACTTCATCAAC',\n",
       " 'Brain_1.CCTAGAGTAATGAGATGG',\n",
       " 'Brain_2.CCAGACACGTTGCCAGAC',\n",
       " 'Brain_1.ACCTGAGATCTTATCTCT',\n",
       " 'Brain_1.ATTCCAAACGCCTACTTC',\n",
       " 'Brain_2.AGTTTAAGGGTCGGCTGC',\n",
       " 'Brain_1.CACAAGCACAAGCTGAAA',\n",
       " 'Brain_1.AGCGAGCAACAAAAAGTT',\n",
       " 'Brain_1.TATGTATAGAGAATACAG',\n",
       " 'Brain_1.CGAGTAGATCTTGCTGTG',\n",
       " 'Brain_1.TCACTTTTCCGCCGAGTA',\n",
       " 'Brain_1.CTCCATATACAGCTTCTG',\n",
       " 'Brain_1.ACAATAGTCCCGGCTCAA',\n",
       " 'Brain_2.TGCGGAAATAAAAATAAA',\n",
       " 'Brain_1.CTCCATGGCTGCTGTGCG',\n",
       " 'Brain_2.AACGCCATTTGCCGTGGC',\n",
       " 'Brain_2.TAAGGGCGGCAGACCTGA',\n",
       " 'Brain_1.TTGGACAAGTACGCCCTC',\n",
       " 'Brain_1.AGGACTGCTGTGTTGGAC',\n",
       " 'Brain_1.CACAAGGAGATCTCAAAG',\n",
       " 'Brain_2.TTCATACATCCCCAAAGT',\n",
       " 'Brain_1.TTGGACCGTGGCTTGGAC',\n",
       " 'Brain_1.CCTAGAACACCCTATGTA',\n",
       " 'Brain_1.CTTCTGGTCGGTGTATAC',\n",
       " 'Brain_1.CATGATGCGAATTATTGT',\n",
       " 'Brain_1.AACGCCTGAAGCTGCAAT',\n",
       " 'Brain_2.ATACAGGCGAATACTTAT',\n",
       " 'Brain_1.GAACGCTTGGACGCCTAG',\n",
       " 'Brain_1.TAGAGAGACACTTTAACT',\n",
       " 'Brain_1.AACCTACAAAGTTTGGAC',\n",
       " 'Brain_1.CGCACCTAAGGGCCTTTC',\n",
       " 'Brain_1.TTCCGCCTCCATTTGGAC',\n",
       " 'Brain_1.AAAGTTACGTTGAAGCGG',\n",
       " 'Brain_1.CGAGTAGCTGTGTTTAGG',\n",
       " 'Brain_1.AAAACGATGCTTTTCATA',\n",
       " 'Brain_1.TCGGGTCGCTTGGCTGTG',\n",
       " 'Brain_1.TCAAAGATCTCTAGCGAG',\n",
       " 'Brain_1.CTTCTGAGGGTCAATAAA',\n",
       " 'Brain_1.AGGACTATTTGCATGGCG',\n",
       " 'Brain_1.TCGGGTGCCTAGCTGTGT',\n",
       " 'Brain_1.ACCTGAAGCGAGTGCAAT',\n",
       " 'Brain_1.GAATTAACACCCCGTGGC',\n",
       " 'Brain_1.TCAAAGACACCCGGGTTT',\n",
       " 'Brain_1.CGAGTAACACCCATACAG',\n",
       " 'Brain_1.ACAATAGCAGGAATCTCT',\n",
       " 'Brain_2.CTTCTGTATTGTTCAAAG',\n",
       " 'Brain_1.CTTCTGATTCCAGACACT',\n",
       " 'Brain_2.AGCGAGGCGAATCGGCAG',\n",
       " 'Brain_1.ACCTGAACACCCTATGTA',\n",
       " 'Brain_1.CAACAATGCGGACATCCC',\n",
       " 'Brain_1.CGCACCGATCTTCACAAG',\n",
       " 'Brain_2.CGCACCGAATTAACCTGA',\n",
       " 'Brain_1.GAACGCTTTAGGACGTTG',\n",
       " 'Brain_1.ATTCCAACGAGCAAAGTT',\n",
       " 'Brain_1.CCTTTCTTCATATGGATG',\n",
       " 'Brain_1.GTGGTATCGTAAACTTAT',\n",
       " 'Brain_1.ACCTGAAACGCCCGGCAG',\n",
       " 'Brain_2.TGCAATCGAGTAACCTGA',\n",
       " 'Brain_2.AACCTAGTTGCCGTCGGT',\n",
       " 'Brain_1.CCTAGAATTCCAGGCTGC',\n",
       " 'Brain_1.CATGATATACAGTATTGT',\n",
       " 'Brain_1.ACGTTGAGTCGTCCTAGA',\n",
       " 'Brain_1.TGCGGAGGACATGTGGTA',\n",
       " 'Brain_1.CGTGGCTTCATAGAGATC',\n",
       " 'Brain_1.GGACATACACCCTCGTAA',\n",
       " 'Brain_2.TCTACCGAACGCGAACGC',\n",
       " 'Brain_1.TTCATAGAATTAATGGCG',\n",
       " 'Brain_2.CCTTTCCTTCTGTGCAAT',\n",
       " 'Brain_1.TCTACCTGTGCGCTCGCA',\n",
       " 'Brain_1.CTCGCACTGAAACCGCTA',\n",
       " 'Brain_2.GCCCTCATCTCTGATCTT',\n",
       " 'Brain_2.ACCTGAGCTCAACTGAAA',\n",
       " 'Brain_1.AGGACTGCCTAGAGATGG',\n",
       " 'Brain_1.CCGCTAGGTACATCAAAG',\n",
       " 'Brain_1.AAAACGGAGGAGATTTGC',\n",
       " 'Brain_1.AGGGTCCGTGGCCGTATT',\n",
       " 'Brain_1.TCACTTGTCCCGAGTTTA',\n",
       " 'Brain_1.CTCCATGACACTACTTAT',\n",
       " 'Brain_1.CTCGCACACAAGTCAAAG',\n",
       " 'Brain_1.AAAGTTAGCGAGAATAAA',\n",
       " 'Brain_1.ATTCCAATACAGGCGAAT',\n",
       " 'Brain_2.AACGCCGCGTCCACCTGA',\n",
       " 'Brain_1.ACGAGCTAAGGGTGAAGC',\n",
       " 'Brain_1.GCTGTGAATAAATAGTCG',\n",
       " 'Brain_1.TCTACCCTGTGTCAAAGT',\n",
       " 'Brain_2.AAGCGGGTCCCGCGCACC',\n",
       " 'Brain_1.TAGCATTTTAGGGAGGAG',\n",
       " 'Brain_1.CAACAATGAAGCCTGAAA',\n",
       " 'Brain_1.CTCGCATTTAGGAAAACG',\n",
       " 'Brain_2.CTCGCACTGAAAGTGGTA',\n",
       " 'Brain_1.CCGCTAGCTGTGGGGCGA',\n",
       " 'Brain_1.GAACGCACACCCCTTCTG',\n",
       " 'Brain_1.ACCTGATTTAGGCGAGTA',\n",
       " 'Brain_1.CCAGACGCAGGAAATAAA',\n",
       " 'Brain_1.GAACGCCCAGACTAGCAT',\n",
       " 'Brain_1.CTCCATGAGATCGCAGGA',\n",
       " 'Brain_1.CTGTGTAAAACGCGTGGC',\n",
       " 'Brain_2.ACGTTGCTTCTGTAGTCG',\n",
       " 'Brain_1.ATCTCTAAGCGGCGTGGC',\n",
       " 'Brain_2.TTTAGGGGACATACACCC',\n",
       " 'Brain_2.CCTAGACCATCTAAGTAC',\n",
       " 'Brain_1.CTGTGTCGCACCAGGACT',\n",
       " 'Brain_1.ACGAGCTGCGGACGGCAG',\n",
       " 'Brain_1.AAAACGTAGAGACTCGCA',\n",
       " 'Brain_1.TAGCATACACCCGGGTTT',\n",
       " 'Brain_1.CTCCATCGCTTGAAAGTT',\n",
       " 'Brain_1.CTCGCACAACAAAAAGTT',\n",
       " 'Brain_1.AAAGTTGAGATCGAACGC',\n",
       " 'Brain_1.TGGATGCGAGTAATCAAC',\n",
       " 'Brain_1.TCGTAACGAGTACATGAT',\n",
       " 'Brain_2.ACTTATCCTAGAAGGGTC',\n",
       " 'Brain_1.GACACTGGTACAGCAGGA',\n",
       " 'Brain_1.CTCGCATCTACCCTTCTG',\n",
       " 'Brain_1.ATCTCTTCGTAAGTTGCC',\n",
       " 'Brain_1.TATGTACAACAATAGTCG',\n",
       " 'Brain_1.TAGTCGGCGTCCCTTCTG',\n",
       " 'Brain_2.CGAGTAACCTGAGAATTA',\n",
       " 'Brain_1.CACAAGATGGCGGCCTAG',\n",
       " 'Brain_1.CCATCTGAGGAGTGGATG',\n",
       " 'Brain_1.GTAATGAGTCGTTGGATG',\n",
       " 'Brain_1.TAAGGGTGAAGCGGCTGC',\n",
       " 'Brain_1.TCGGGTGGGTTTCTCGCA',\n",
       " 'Brain_1.GAACGCCACAAGATCAAC',\n",
       " 'Brain_1.TAAGGGAAAGTTAATAAA',\n",
       " 'Brain_1.GCCCTCCGCACCACACCC',\n",
       " 'Brain_1.GCAGGACCGCTACGCACC',\n",
       " 'Brain_1.GAACGCACAATAGTGGTA',\n",
       " 'Brain_2.CAAAGTCACAAGGCGTCC',\n",
       " 'Brain_1.CTCGCAGGACATTTCCGC',\n",
       " 'Brain_1.TGCAATCATGATTTTAGG',\n",
       " 'Brain_1.CCGCTACTGTGTGAGGAG',\n",
       " 'Brain_2.CCATCTTAAGGGAGGGTC',\n",
       " 'Brain_1.TCGTAATGAAGCCTGTGT',\n",
       " 'Brain_1.CCTAGAGCAGGAGAATTA',\n",
       " 'Brain_2.TGATCAGCCTAGCGCACC',\n",
       " 'Brain_1.ATGCTTCGTGGCACAATA',\n",
       " 'Brain_1.AGTCGTATGCTTTCAAAG',\n",
       " 'Brain_1.CAAAGTGTTGCCTCGGGT',\n",
       " 'Brain_2.AGGACTTATGTACGGCAG',\n",
       " 'Brain_2.GCTCAAGTATACAGGGTC',\n",
       " 'Brain_2.CGGCAGGGGTTTGTATAC',\n",
       " 'Brain_2.GGGTTTCACAAGACGTTG',\n",
       " 'Brain_1.CCATCTACACCCCCGCTA',\n",
       " 'Brain_1.TCGTAACGCACCTTGGAC',\n",
       " 'Brain_1.ACACCCTAAGGGCGTATT',\n",
       " 'Brain_1.GAACGCGCGTCCTGAAGC',\n",
       " 'Brain_1.CTCCATCCGCTAGTCGGT',\n",
       " 'Brain_1.CATGATGGACATTGGATG',\n",
       " 'Brain_1.TGGATGTGCAATCTTCTG',\n",
       " 'Brain_2.ACGTTGTGCAATCCGACG',\n",
       " 'Brain_1.AATAAACGAGTACGCTTG',\n",
       " 'Brain_2.ACGTTGACGTTGTTCATA',\n",
       " 'Brain_1.CCGCTAACTTATCCGCTA',\n",
       " 'Brain_1.GAACGCCTTCTGCCTAGA',\n",
       " 'Brain_1.GATCTTATGGCGATGGCG',\n",
       " 'Brain_1.TACTTCCCAGACCGCTTG',\n",
       " 'Brain_1.TGCGGAGAACGCCATCCC',\n",
       " 'Brain_1.CACAAGGTGGTACCTTTC',\n",
       " 'Brain_2.CATCCCGCAGGATGATCA',\n",
       " 'Brain_2.TGATCACGTGGCTGCAAT',\n",
       " 'Brain_1.ACGTTGCGTGGCGATCTT',\n",
       " 'Brain_1.ATTTGCCGTATTTTCATA',\n",
       " 'Brain_1.AGATGGAGGACTCGCACC',\n",
       " 'Brain_1.TCTACCTTGGACCGTATT',\n",
       " 'Brain_1.ACCTGAGGCTGCTAAGGG',\n",
       " 'Brain_1.TTTAGGACACCCCTCGCA',\n",
       " 'Brain_1.CTGAAAAGGGTCAAGCGG',\n",
       " 'Brain_1.ATTCCAGGGTTTGGCTGC',\n",
       " 'Brain_1.CCGCTAACAATATGATCA',\n",
       " 'Brain_2.GCCTAGTGATCACTGAAA',\n",
       " 'Brain_1.AACGCCGGGTTTCTTCTG',\n",
       " 'Brain_1.CGTATTGTGGTATATTGT',\n",
       " 'Brain_2.CATGATAAAACGATCTCT',\n",
       " 'Brain_2.GGTACAACGTTGGAACGC',\n",
       " 'Brain_2.ACTTATAACCTACACAAG',\n",
       " 'Brain_1.TCAAAGCGAGTAGGGTTT',\n",
       " 'Brain_1.CAACAAAATAAAGACACT',\n",
       " 'Brain_1.CAAAGTGCGAATTGCAAT',\n",
       " 'Brain_2.CTCGCATAGCATGCAGGA',\n",
       " 'Brain_1.GCAGGAAAGCGGTGCAAT',\n",
       " 'Brain_1.ATCTCTCGTGGCAAAGTT',\n",
       " 'Brain_1.CTGTGTGGACATCGAGTA',\n",
       " 'Brain_1.CCATCTCCGACGCCTAGA',\n",
       " 'Brain_1.CAACAAATGGCGCCTTTC',\n",
       " 'Brain_1.CTCGCACCGACGGAATTA',\n",
       " 'Brain_1.ACAATATAGCATCTTCTG',\n",
       " 'Brain_1.GGACATGGCTGCAGCGAG',\n",
       " 'Brain_1.TGTCACCTCCATCACAAG',\n",
       " 'Brain_1.GAATTAATTTGCATACAG',\n",
       " 'Brain_1.GGGTTTAACGCCAAGTAC',\n",
       " 'Brain_1.CTTCTGAAAGTTGACACT',\n",
       " 'Brain_1.CAACAAGCGTCCCTCGCA',\n",
       " 'Brain_2.AACCTAAGATGGCCTTTC',\n",
       " 'Brain_1.AGGACTTGGATGGGCTGC',\n",
       " 'Brain_1.AATAAAACACCCCTCGCA',\n",
       " 'Brain_1.GGACATTTCCGCGGCTGC',\n",
       " 'Brain_1.CCGCTAACAATACTCGCA',\n",
       " 'Brain_1.ACCTGATATTGTTGAAGC',\n",
       " 'Brain_1.GAATTAATACAGAGCGAG',\n",
       " 'Brain_2.ATCAACAAGTACGCCTAG',\n",
       " 'Brain_1.TCTACCTAAGGGTCGTAA',\n",
       " 'Brain_1.TGATCACTCGCACGCACC',\n",
       " 'Brain_1.TATGTACACAAGCTGTGT',\n",
       " 'Brain_1.TATGTATTTAGGAATAAA',\n",
       " 'Brain_1.CGCACCGGCTGCAGATGG',\n",
       " 'Brain_1.TCGTAAACACCCGGCTGC',\n",
       " 'Brain_1.TACTTCACCTGAAATAAA',\n",
       " 'Brain_1.CAACAAATGGCGGATCTT',\n",
       " 'Brain_1.GTAATGCCGCTAAGTTTA',\n",
       " 'Brain_1.TCGTAATCAAAGGCTCAA',\n",
       " 'Brain_1.CCATCTTTTAGGCTTCTG',\n",
       " 'Brain_1.CACAAGTCAAAGAACGCC',\n",
       " 'Brain_1.TCTACCGAGATCTTCCGC',\n",
       " 'Brain_1.TCGTAATTCCGCCGAGTA',\n",
       " 'Brain_1.TCACTTGCAGGACGTGGC',\n",
       " 'Brain_1.TATGTAGTGGTACTCGCA',\n",
       " 'Brain_1.TAAGGGAGTCGTTGGATG',\n",
       " 'Brain_1.AAGTACCCGCTAAGATGG',\n",
       " 'Brain_2.TGCAATATACAGGTCGGT',\n",
       " 'Brain_1.CCGACGTAGAGAAGTCGT',\n",
       " 'Brain_2.AAGCGGCGAGTATGCAAT',\n",
       " 'Brain_1.GACACTTTCATATCGGGT',\n",
       " 'Brain_1.TTCATAACGAGCGCTGTG',\n",
       " 'Brain_1.TTAACTGAACGCCAAAGT',\n",
       " 'Brain_1.TAGAGAACTTATTATGTA',\n",
       " 'Brain_1.TACTTCGGTACAAACCTA',\n",
       " 'Brain_1.TCGTAAGAGATCCCTAGA',\n",
       " 'Brain_1.TTGGACCACAAGAACGCC',\n",
       " 'Brain_1.GACACTGCGTCCTAGCAT',\n",
       " 'Brain_1.CGCACCGGCTGCAACCTA',\n",
       " 'Brain_1.CTCGCAGGACATCGAGTA',\n",
       " 'Brain_1.ACACCCTGGATGCTTCTG',\n",
       " 'Brain_2.TAAGGGACTTATAGATGG',\n",
       " 'Brain_1.AGTCGTAGTCGTTGGATG',\n",
       " 'Brain_1.CTTCTGACGAGCCCGACG',\n",
       " 'Brain_1.ACAATAGGGCGAAACCTA',\n",
       " 'Brain_1.TATGTAAGCGAGCTCGCA',\n",
       " 'Brain_1.AGGACTCCAGACCGCTTG',\n",
       " 'Brain_1.TCGTAACTCCATGGGTTT',\n",
       " 'Brain_1.TCACTTCGAGTACCGACG',\n",
       " 'Brain_1.TATGTAACGTTGTAGAGA',\n",
       " 'Brain_2.AGTTTAGTCCCGAGGGTC',\n",
       " 'Brain_1.TGTCACTACTTCCTTCTG',\n",
       " 'Brain_1.AGCGAGTAGCATTGCGGA',\n",
       " 'Brain_1.CGTGGCCTGAAATAGTCG',\n",
       " 'Brain_1.GAATTAGTGGTACGCACC',\n",
       " 'Brain_1.CTCCATCCGACGTCAAAG',\n",
       " 'Brain_1.CCGCTACCGACGCACAAG',\n",
       " 'Brain_1.ATCAACAGGACTGTAATG',\n",
       " 'Brain_1.ATTTGCTCGGGTTGAAGC',\n",
       " 'Brain_1.CCGCTAAATAAATAAGGG',\n",
       " 'Brain_1.TTCCGCAATAAACAAAGT',\n",
       " 'Brain_1.GAGGAGAATAAAAATAAA',\n",
       " 'Brain_1.TTTAGGTTTAGGGCGAAT',\n",
       " 'Brain_1.GCAGGATGCAATTGTGCG',\n",
       " 'Brain_1.CCGACGCGTATTGTAATG',\n",
       " 'Brain_1.CCAGACATCTCTTGATCA',\n",
       " 'Brain_1.ACCTGACTGAAAAGGGTC',\n",
       " 'Brain_1.GAACGCTAAGGGCTCGCA',\n",
       " 'Brain_1.CGAGTACTCCATATGGCG',\n",
       " 'Brain_1.CTCCATCCTAGAATGCTT',\n",
       " 'Brain_1.CGAGTAACGTTGGTAATG',\n",
       " 'Brain_1.TCTACCGAGGAGTACTTC',\n",
       " 'Brain_1.AGTTTAGCCTAGCGAGTA',\n",
       " 'Brain_2.AGCGAGTAGCATTTCATA',\n",
       " 'Brain_1.ACTTATGGTACAAAAACG',\n",
       " 'Brain_1.GTAATGCTCCATTAGCAT',\n",
       " 'Brain_1.TAGCATTAGAGATACTTC',\n",
       " 'Brain_1.TTAACTGTAATGGGGCGA',\n",
       " 'Brain_1.CTTCTGACTTATATACAG',\n",
       " 'Brain_2.CTCGCAAATAAACGTGGC',\n",
       " 'Brain_1.ACACCCCAAAGTGCTGTG',\n",
       " 'Brain_1.ATCTCTAACGCCGGACAT',\n",
       " 'Brain_1.CCTTTCGTTGCCCAAAGT',\n",
       " 'Brain_1.ATCAACCTCGCATACTTC',\n",
       " 'Brain_1.TAGAGAGACACTTGATCA',\n",
       " 'Brain_1.GAGATCCACAAGCGGCAG',\n",
       " 'Brain_2.GGACATGTCGGTTACTTC',\n",
       " 'Brain_2.GTATACGTCCCGCCTAGA',\n",
       " 'Brain_2.ACAATAGGTACAAACGCC',\n",
       " 'Brain_1.CATGATGCGAATGCCCTC',\n",
       " 'Brain_1.ATCAACACACCCCTCCAT',\n",
       " 'Brain_1.CTTCTGACACCCGTCGGT',\n",
       " 'Brain_1.GACACTTCGTAAAATAAA',\n",
       " 'Brain_1.GTGGTACGCACCCTGTGT',\n",
       " 'Brain_2.AAGCGGAAAACGGAATTA',\n",
       " 'Brain_1.ATTCCAGGACATAGGACT',\n",
       " 'Brain_1.ATTCCAGGACATGACACT',\n",
       " 'Brain_1.ATCAACACACCCCTCGCA',\n",
       " 'Brain_1.GAGATCGCAGGAATTCCA',\n",
       " 'Brain_1.CTCCATACAATAAAAGTT',\n",
       " 'Brain_1.AAAACGTCAAAGGAGGAG',\n",
       " 'Brain_1.ACAATAATTCCAGCGTCC',\n",
       " 'Brain_1.TCTACCGGACATATTCCA',\n",
       " 'Brain_2.AAGCGGATCTCTACGTTG',\n",
       " 'Brain_1.TGGATGGTATACATACAG',\n",
       " 'Brain_1.ACTTATTTTAGGAGCGAG',\n",
       " 'Brain_1.CTCCATCTCGCAGGACAT',\n",
       " 'Brain_1.CTTCTGATGCTTATGGCG',\n",
       " 'Brain_1.CCGCTATAAGGGTGCGGA',\n",
       " 'Brain_2.TCACTTCGCTTGCCTTTC',\n",
       " 'Brain_1.GGGCGATGAAGCCCAGAC',\n",
       " 'Brain_1.CAACAACGTATTGCAGGA',\n",
       " 'Brain_2.TAGTCGGCCTAGCCTTTC',\n",
       " 'Brain_2.GTATACGGACATAGGGTC',\n",
       " 'Brain_2.ATCAACCATCCCCCATCT',\n",
       " 'Brain_1.ATACAGACACCCTGGATG',\n",
       " 'Brain_1.GAACGCGTAATGGGACAT',\n",
       " 'Brain_1.CGAGTAACACCCGCCTAG',\n",
       " 'Brain_1.TCGTAAGAGGAGTAGAGA',\n",
       " 'Brain_2.ACGTTGTCTACCTGCGGA',\n",
       " 'Brain_1.TGTGCGGCCTAGCTTCTG',\n",
       " 'Brain_1.TAGCATCACAAGCTTCTG',\n",
       " 'Brain_2.CCGCTAAGGACTGGGCGA',\n",
       " 'Brain_1.GATCTTGTATACTGATCA',\n",
       " 'Brain_1.ACACCCCAACAACTCGCA',\n",
       " 'Brain_2.CCAGACAACGCCTGCAAT',\n",
       " 'Brain_2.CCATCTTATTGTAACCTA',\n",
       " 'Brain_2.GCCTAGCCTTTCGCGTCC',\n",
       " 'Brain_1.ATTCCAGGCTGCGTAATG',\n",
       " 'Brain_1.CCGCTAACAATAATGGCG',\n",
       " 'Brain_1.CTCCATTGGATGGAGGAG',\n",
       " 'Brain_2.GAGATCAACGCCCGAGTA',\n",
       " 'Brain_1.TACTTCGGGTTTAAAGTT',\n",
       " 'Brain_2.AGGACTTTCCGCTCTACC',\n",
       " 'Brain_1.TACTTCGCGAATATCTCT',\n",
       " 'Brain_1.ATCTCTCTTCTGAAAACG',\n",
       " 'Brain_1.AGGGTCCAACAATGAAGC',\n",
       " 'Brain_1.CATCCCGCGTCCTAAGGG',\n",
       " 'Brain_2.TGATCATTCATAGTGGTA',\n",
       " 'Brain_1.CGGCAGTCTACCGGGCGA',\n",
       " 'Brain_2.GGTACACTCGCACCAGAC',\n",
       " 'Brain_2.ACACCCTTAACTCGCACC',\n",
       " 'Brain_1.CCATCTGCCTAGGCTGTG',\n",
       " 'Brain_1.CAACAAATTCCAATGGCG',\n",
       " 'Brain_1.GGACATGGGTTTCTTCTG',\n",
       " 'Brain_1.TGTCACGAACGCAAGCGG',\n",
       " 'Brain_1.CTCGCAGAGATCAAAGTT',\n",
       " 'Brain_1.CATGATGAGGAGGTCCCG',\n",
       " 'Brain_1.GATCTTGTCGGTAGGGTC',\n",
       " 'Brain_1.AATAAAGGTACACGCTTG',\n",
       " 'Brain_1.TAGTCGCCAGACTGATCA',\n",
       " 'Brain_1.CTCGCAGAGATCCGTATT',\n",
       " 'Brain_1.CTGAAAGACACTCCTAGA',\n",
       " 'Brain_1.AACGCCGCGAATAATAAA',\n",
       " 'Brain_1.TGATCAACGAGCGTGGTA',\n",
       " 'Brain_1.CCGACGGAACGCCCTAGA',\n",
       " 'Brain_1.ATACAGGTTGCCTCACTT',\n",
       " 'Brain_1.GAACGCATGGCGCGCTTG',\n",
       " 'Brain_1.ACTTATGAACGCCGTATT',\n",
       " 'Brain_1.CTCCATGACACTTGGATG',\n",
       " 'Brain_2.ATGGCGGGGCGATATGTA',\n",
       " 'Brain_1.CTGAAATCACTTTTTAGG',\n",
       " 'Brain_2.GAGGAGTAAGGGCTCGCA',\n",
       " 'Brain_1.CCAGACCATGATCTTCTG',\n",
       " 'Brain_2.AAGCGGCGCTTGCGTATT',\n",
       " 'Brain_1.GACACTAGGACTCTTCTG',\n",
       " 'Brain_1.CCTAGAATGCTTGCTCAA',\n",
       " 'Brain_1.AGGACTAAGTACAAGCGG',\n",
       " 'Brain_1.ACACCCTATTGTGAACGC',\n",
       " 'Brain_1.GACACTACAATACCAGAC',\n",
       " 'Brain_1.AGTTTAACACCCGCCCTC',\n",
       " 'Brain_1.TTGGACTAGCATCCGCTA',\n",
       " 'Brain_1.CCAGACTAGCATAACGCC',\n",
       " 'Brain_1.CCAGACCCGACGCGTATT',\n",
       " 'Brain_1.CTTCTGACCTGACGGCAG',\n",
       " 'Brain_1.CCGCTATAGCATCCGCTA',\n",
       " 'Brain_2.TGAAGCAGCGAGCGTGGC',\n",
       " 'Brain_1.TGCAATGTAATGTATTGT',\n",
       " 'Brain_2.AAGCGGTGATCAAACGCC',\n",
       " 'Brain_1.GAGATCGTCGGTACACCC',\n",
       " 'Brain_1.CTCCATCGAGTAACAATA',\n",
       " 'Brain_2.TGATCAGGGCGACTTCTG',\n",
       " 'Brain_1.AGATGGCAAAGTCCGACG',\n",
       " 'Brain_1.CACAAGCTCCATGACACT',\n",
       " 'Brain_1.GACACTGGCTGCGCTCAA',\n",
       " 'Brain_1.GCAGGAATTCCACCTTTC',\n",
       " 'Brain_1.GAATTATCAAAGGCGTCC',\n",
       " 'Brain_1.AATAAAGCGTCCGAACGC',\n",
       " 'Brain_1.TACTTCTTTAGGACAATA',\n",
       " 'Brain_1.TAGAGAAACGCCAGGACT',\n",
       " 'Brain_1.CGAGTAGAGGAGCGTATT',\n",
       " 'Brain_1.GCAGGACTGTGTGGGTTT',\n",
       " 'Brain_1.TGCGGACTTCTGGATCTT',\n",
       " 'Brain_1.TGCAATGTCGGTTCGTAA',\n",
       " 'Brain_1.CTGTGTTAGTCGTAGTCG',\n",
       " 'Brain_1.ATCTCTCGAGTAGGGTTT',\n",
       " 'Brain_1.GCAGGACTCGCACATCCC',\n",
       " 'Brain_2.TACTTCGATCTTGAACGC',\n",
       " 'Brain_2.CCTTTCCCAGACGAATTA',\n",
       " 'Brain_1.ACAATAGCCTAGGCCTAG',\n",
       " 'Brain_1.CTGAAAAGCGAGAGGGTC',\n",
       " 'Brain_1.CTCCATGACACTGGTACA',\n",
       " 'Brain_1.GTGGTATTCATATCTACC',\n",
       " 'Brain_1.AATAAATTAACTACGAGC',\n",
       " 'Brain_2.ACGAGCATTCCAGTCCCG',\n",
       " 'Brain_2.GCCTAGGGCTGCCTTCTG',\n",
       " 'Brain_1.ACCTGAATGCTTATACAG',\n",
       " 'Brain_1.GCCTAGAAAGTTCCTTTC',\n",
       " 'Brain_1.AGTTTACTCCATAATAAA',\n",
       " 'Brain_2.AACGCCGCGTCCTAGTCG',\n",
       " 'Brain_1.ACTTATATGGCGTGCGGA',\n",
       " 'Brain_1.TGCGGATGAAGCTGAAGC',\n",
       " 'Brain_1.AACCTAGGGTTTCTGTGT',\n",
       " 'Brain_1.TACTTCCTCCATTTTAGG',\n",
       " 'Brain_1.TGGATGATGCTTACCTGA',\n",
       " 'Brain_1.TCAAAGAGTTTAATCTCT',\n",
       " 'Brain_1.TACTTCACCTGAGAGATC',\n",
       " 'Brain_1.CGTATTGCCTAGTATTGT',\n",
       " 'Brain_1.GTAATGTCGGGTGAGATC',\n",
       " 'Brain_1.TCGTAAAACCTAGCCCTC',\n",
       " 'Brain_1.TACTTCAGTTTAATGCTT',\n",
       " 'Brain_2.AAGCGGGGTACATAGAGA',\n",
       " 'Brain_1.GCCCTCAAAGTTCTGAAA',\n",
       " 'Brain_2.ATGGCGCCGACGGGCTGC',\n",
       " 'Brain_2.CCGCTACTGTGTCATGAT',\n",
       " 'Brain_1.CTGAAATCACTTTGGATG',\n",
       " 'Brain_1.TTAACTACGAGCTTCATA',\n",
       " 'Brain_2.CAAAGTCTCGCAACGTTG',\n",
       " 'Brain_1.CTCGCAATCTCTCAACAA',\n",
       " 'Brain_2.ATCTCTCAAAGTCCGACG',\n",
       " 'Brain_2.CCAGACACCTGAAAAACG',\n",
       " 'Brain_2.AACCTAAAAGTTATGCTT',\n",
       " 'Brain_1.CTGTGTACACCCAACCTA',\n",
       " 'Brain_1.ACCTGATGCAATCCGACG',\n",
       " 'Brain_1.CACAAGTAGTCGGGGTTT',\n",
       " 'Brain_2.CCGACGTTAACTGGTACA',\n",
       " 'Brain_1.AGGACTTCAAAGATACAG',\n",
       " 'Brain_1.ATCTCTGATCTTCAACAA',\n",
       " 'Brain_1.CCGCTAATCTCTGGGCGA',\n",
       " 'Brain_1.GCCCTCACACCCATTTGC',\n",
       " 'Brain_2.CGCACCGGCTGCGCCTAG',\n",
       " 'Brain_1.TTGGACCCTAGATCTACC',\n",
       " 'Brain_1.AGTTTAACACCCTCTACC',\n",
       " 'Brain_1.TATGTAGACACTGGACAT',\n",
       " 'Brain_1.CATCCCATGCTTGGGTTT',\n",
       " 'Brain_1.TCGTAAACACCCAATAAA',\n",
       " 'Brain_1.GTGGTAATTCCACGCACC',\n",
       " 'Brain_1.GCCTAGAATAAAGTATAC',\n",
       " 'Brain_1.CCGCTAGCAGGATGATCA',\n",
       " 'Brain_1.TGAAGCCCATCTACGTTG',\n",
       " 'Brain_1.GGTACACCGCTATAGTCG',\n",
       " 'Brain_2.ATCAACAAGCGGTGCAAT',\n",
       " 'Brain_1.ATCAACTAGCATGTCGGT',\n",
       " 'Brain_1.CCATCTGTAATGACGAGC',\n",
       " 'Brain_2.GCCCTCTAGCATTCGGGT',\n",
       " 'Brain_1.TAAGGGCAACAACCTAGA',\n",
       " 'Brain_1.TGCAATTACTTCGCGAAT',\n",
       " 'Brain_1.AGTTTAACTTATTTCATA',\n",
       " 'Brain_1.GTGGTATACTTCAGGGTC',\n",
       " 'Brain_1.ACGTTGAGGACTATACAG',\n",
       " 'Brain_1.GCCTAGGCTGTGGTAATG',\n",
       " 'Brain_1.TCGTAAAGGGTCCTTCTG',\n",
       " 'Brain_1.GCCCTCTGGATGGTGGTA',\n",
       " 'Brain_1.ATACAGAAAGTTTGGATG',\n",
       " 'Brain_2.TTCCGCCATCCCACACCC',\n",
       " 'Brain_1.CTGAAAACACCCTCTACC',\n",
       " 'Brain_1.TGAAGCTCTACCGGTACA',\n",
       " 'Brain_1.AAAACGCTGAAAGTCGGT',\n",
       " 'Brain_1.AAAGTTTACTTCAAGTAC',\n",
       " 'Brain_2.ACACCCTACTTCATTTGC',\n",
       " 'Brain_1.TCGTAAAGATGGACACCC',\n",
       " 'Brain_1.CTCGCAAACCTACCGCTA',\n",
       " 'Brain_2.CGAGTAAGTCGTCCGCTA',\n",
       " 'Brain_1.CCATCTACGTTGGAGATC',\n",
       " 'Brain_1.AAAGTTACACCCAGTCGT',\n",
       " 'Brain_1.CCGCTAAGTTTAATGGCG',\n",
       " 'Brain_1.TTCATATATTGTGCGAAT',\n",
       " 'Brain_1.GAGATCACACCCTTGGAC',\n",
       " 'Brain_2.CCGACGGTCGGTCCGACG',\n",
       " 'Brain_1.CTCGCATGCGGAAAAGTT',\n",
       " 'Brain_1.TGTGCGCTTCTGCCTAGA',\n",
       " 'Brain_1.GAATTAGGCTGCCGAGTA',\n",
       " 'Brain_1.ACGAGCAAGCGGGCCCTC',\n",
       " 'Brain_1.AACGCCGCTGTGGAACGC',\n",
       " 'Brain_2.CCGCTAGGGCGATGCGGA',\n",
       " 'Brain_1.AATAAAGTAATGTTAACT',\n",
       " 'Brain_1.CCATCTAACGCCCCGCTA',\n",
       " 'Brain_1.ACAATATGAAGCTAGCAT',\n",
       " 'Brain_2.ACGTTGCGAGTACCATCT',\n",
       " 'Brain_1.CTTCTGGTGGTAGGTACA',\n",
       " 'Brain_1.CTCCATGCGTCCGACACT',\n",
       " 'Brain_1.CTGTGTACAATAGACACT',\n",
       " 'Brain_1.AGTTTACCTAGAGAGGAG',\n",
       " 'Brain_1.CAACAAAGTCGTCTTCTG',\n",
       " 'Brain_2.AGGACTGTTGCCGGGTTT',\n",
       " 'Brain_1.CGGCAGGCTGTGGGACAT',\n",
       " 'Brain_2.AGCGAGGGACATGAGATC',\n",
       " 'Brain_1.GAACGCTCTACCATTCCA',\n",
       " 'Brain_2.ACTTATGGACATCTGAAA',\n",
       " 'Brain_1.AGTTTAGCGTCCACGAGC',\n",
       " 'Brain_1.GAACGCCCGCTAACACCC',\n",
       " 'Brain_1.TAGCATGAACGCGCGTCC',\n",
       " 'Brain_1.TAAGGGGCCTAGTGTGCG',\n",
       " 'Brain_1.GCAGGAGGGTTTTTTAGG',\n",
       " 'Brain_2.TCTACCGGACATAGTTTA',\n",
       " 'Brain_1.CTCCATATCAACATCTCT',\n",
       " 'Brain_1.AAAACGCTCGCAAGGGTC',\n",
       " 'Brain_1.GACACTCTTCTGGCGAAT',\n",
       " 'Brain_1.CGCTTGCTCCATTGGATG',\n",
       " 'Brain_2.AAGCGGGGTACACGCTTG',\n",
       " 'Brain_1.CCTAGAGTATACCTCCAT',\n",
       " 'Brain_1.TTCCGCGCCTAGGCGAAT',\n",
       " 'Brain_2.ACGTTGGCCCTCGTAATG',\n",
       " 'Brain_2.TGATCATAGTCGAGATGG',\n",
       " 'Brain_1.AACGCCACGTTGGTGGTA',\n",
       " 'Brain_1.CTGTGTACACCCATGGCG',\n",
       " 'Brain_1.AAAGTTCTGAAACATCCC',\n",
       " 'Brain_1.AACGCCGTAATGTGATCA',\n",
       " 'Brain_1.GGCTGCCGTATTATCTCT',\n",
       " 'Brain_1.ATTCCAATCTCTGCGAAT',\n",
       " 'Brain_1.ACCTGATTCATACTCCAT',\n",
       " 'Brain_1.CCAGACATACAGTTCCGC',\n",
       " 'Brain_1.CATCCCCCGCTACATGAT',\n",
       " 'Brain_1.GTCGGTACACCCTCTACC',\n",
       " 'Brain_1.ATCTCTACTTATTTGGAC',\n",
       " 'Brain_1.GCCTAGCTGAAAGAGATC',\n",
       " 'Brain_1.ATCAACCGCACCAGTTTA',\n",
       " 'Brain_1.GGACATAGGGTCAGATGG',\n",
       " 'Brain_1.ATTCCAAGCGAGCTGAAA',\n",
       " 'Brain_1.CTCCATACACCCGGCTGC',\n",
       " 'Brain_1.TATGTAAGTCGTTCAAAG',\n",
       " 'Brain_1.GGACATAACGCCAACCTA',\n",
       " 'Brain_2.ATCTCTGAGGAGTACTTC',\n",
       " 'Brain_1.GATCTTGTCCCGATCAAC',\n",
       " 'Brain_1.CTGTGTCGCACCTGCAAT',\n",
       " 'Brain_1.TATGTAACACCCGGGCGA',\n",
       " 'Brain_1.CGGCAGACACCCCCTAGA',\n",
       " 'Brain_1.AAGTACAATAAATAGCAT',\n",
       " 'Brain_1.CACAAGTAGCATAAAGTT',\n",
       " 'Brain_1.GTCGGTTTCATATCGTAA',\n",
       " 'Brain_1.CCGCTAGGACATATCTCT',\n",
       " 'Brain_2.GGTACAGGGTTTACAATA',\n",
       " 'Brain_1.TGGATGTCGTAACCGACG',\n",
       " 'Brain_1.TGAAGCTTGGACCGTGGC',\n",
       " 'Brain_2.ACTTATTCGGGTTTGGAC',\n",
       " 'Brain_1.CCTTTCATTTGCGGGCGA',\n",
       " 'Brain_1.AACGCCCCAGACTAGTCG',\n",
       " 'Brain_1.GTATACGGACATCTCCAT',\n",
       " 'Brain_2.CGGCAGTGCGGACGGCAG',\n",
       " 'Brain_1.CGAGTAGGCTGCCGTATT',\n",
       " 'Brain_1.TTCCGCATGCTTAAAACG',\n",
       " 'Brain_1.GACACTCCATCTCCAGAC',\n",
       " 'Brain_1.CTCGCAGTGGTAGTATAC',\n",
       " 'Brain_1.CTCCATCAACAATCGTAA',\n",
       " 'Brain_1.TACTTCTTAACTGAGGAG',\n",
       " 'Brain_1.CTCCATATACAGCATCCC',\n",
       " 'Brain_1.GAGATCCCGACGCTTCTG',\n",
       " 'Brain_1.AGCGAGACACCCTTGGAC',\n",
       " 'Brain_1.TCTACCCGTATTTCACTT',\n",
       " 'Brain_2.ACGTTGATGCTTCCAGAC',\n",
       " 'Brain_1.GCCTAGTAGTCGATGGCG',\n",
       " 'Brain_2.AGGACTAGGACTAGTTTA',\n",
       " 'Brain_1.CTCCATTGGATGCCGCTA',\n",
       " 'Brain_1.GTCGGTACACCCGAGGAG',\n",
       " 'Brain_2.ACCTGAGTGGTAAACGCC',\n",
       " 'Brain_1.TCACTTCGAGTATCGTAA',\n",
       " 'Brain_1.CTCGCATAGCATTACTTC',\n",
       " 'Brain_2.TCACTTGCAGGAGAGATC',\n",
       " 'Brain_1.GCCTAGCCAGACATGGCG',\n",
       " 'Brain_2.CAAAGTTGTCACCATCCC',\n",
       " 'Brain_1.AACGCCTCACTTATACAG',\n",
       " 'Brain_1.AAGTACATGCTTAATAAA',\n",
       " 'Brain_1.GCAGGAGTAATGATTTGC',\n",
       " 'Brain_1.AAAACGATTCCACTTCTG',\n",
       " 'Brain_2.AGGACTCGGCAGAGGACT',\n",
       " 'Brain_2.ACTTATTAGTCGTGCGGA',\n",
       " 'Brain_1.TCTACCGGTACAATTCCA',\n",
       " 'Brain_1.CTCGCAGGGTTTGCTCAA',\n",
       " 'Brain_1.TCACTTCCGCTAAGATGG',\n",
       " 'Brain_1.TTAACTCTCGCATCACTT',\n",
       " 'Brain_1.CTTCTGACACCCCTTCTG',\n",
       " 'Brain_2.AACGCCTATTGTCCATCT',\n",
       " 'Brain_1.TTTAGGTAAGGGGGGCGA',\n",
       " 'Brain_1.GCCCTCACGTTGAGTTTA',\n",
       " 'Brain_1.ATCAACACACCCCCAGAC',\n",
       " 'Brain_1.TGAAGCAACGCCAATAAA',\n",
       " 'Brain_1.TTCCGCCGAGTATCTACC',\n",
       " 'Brain_1.CCTAGAACACCCTTGGAC',\n",
       " 'Brain_1.CGAGTAGCGTCCAAGCGG',\n",
       " 'Brain_1.TCGTAACGTATTCTTCTG',\n",
       " 'Brain_1.TGAAGCCGTATTTCGTAA',\n",
       " 'Brain_1.GCCCTCAGATGGAACCTA',\n",
       " 'Brain_1.CCGACGGTCCCGCTCCAT',\n",
       " 'Brain_1.CCGACGGCGTCCGGGTTT',\n",
       " 'Brain_1.TGAAGCCAACAACGCTTG',\n",
       " 'Brain_1.GGCTGCACACCCCTCGCA',\n",
       " 'Brain_1.ACGTTGGCGAATCTTCTG',\n",
       " 'Brain_1.CATCCCATGCTTATCAAC',\n",
       " 'Brain_1.ATGGCGGCCTAGGCAGGA',\n",
       " 'Brain_1.GCGAATGCAGGAAGCGAG',\n",
       " 'Brain_1.TTAACTTACTTCACACCC',\n",
       " 'Brain_1.TGATCAGGGCGACGCTTG',\n",
       " 'Brain_1.ATGCTTACGTTGACGAGC',\n",
       " 'Brain_1.CTGTGTAGGACTGCTGTG',\n",
       " 'Brain_1.GCAGGAAGGACTATTCCA',\n",
       " 'Brain_1.TCGTAAACACCCGCTGTG',\n",
       " 'Brain_1.AACGCCTAAGGGCTCGCA',\n",
       " 'Brain_2.GCGAATGGACATGCTCAA',\n",
       " 'Brain_1.TCGTAAATTTGCATCTCT',\n",
       " 'Brain_2.ATCAACCCAGACAGGACT',\n",
       " 'Brain_1.CCAGACAGGACTTGATCA',\n",
       " 'Brain_1.ATTTGCACCTGATAAGGG',\n",
       " 'Brain_1.GCGAATACAATACTGAAA',\n",
       " 'Brain_1.CCGACGAAAGTTTTCCGC',\n",
       " 'Brain_1.TGCGGAGAACGCCTTCTG',\n",
       " 'Brain_1.TCAAAGTGTGCGCCGACG',\n",
       " 'Brain_1.AAAACGACAATAGCAGGA',\n",
       " 'Brain_2.CTCGCAAGATGGGAATTA',\n",
       " 'Brain_2.CGGCAGCAAAGTCGAGTA',\n",
       " 'Brain_1.TCAAAGTATGTACTCCAT',\n",
       " 'Brain_1.GAACGCGAATTAGCCTAG',\n",
       " 'Brain_2.CTCCATGTAATGGAATTA',\n",
       " 'Brain_1.TTGGACCCATCTCTCGCA',\n",
       " 'Brain_1.TCGTAAACGTTGCTTCTG',\n",
       " 'Brain_1.TCGTAAACACCCTCAAAG',\n",
       " 'Brain_1.CACAAGTGTGCGTAGTCG',\n",
       " 'Brain_1.CTCGCACTTCTGCTGTGT',\n",
       " 'Brain_1.TAAGGGCAACAAAACGCC',\n",
       " 'Brain_1.CTCCATACACCCTGCGGA',\n",
       " 'Brain_1.GCAGGAGGGCGACGTATT',\n",
       " 'Brain_1.CAACAAGGGTTTCCAGAC',\n",
       " 'Brain_1.TGTCACGATCTTCTCGCA',\n",
       " 'Brain_1.ATTCCAGAGATCCAAAGT',\n",
       " 'Brain_2.TCTACCCCTTTCCCGCTA',\n",
       " 'Brain_1.AGTTTAGGTACACCTTTC',\n",
       " 'Brain_2.CGAGTACTGAAATCAAAG',\n",
       " 'Brain_1.GAATTAACACCCACAATA',\n",
       " 'Brain_1.GGGCGAGAATTAACACCC',\n",
       " 'Brain_2.TGCGGAAAGTACGTGGTA',\n",
       " 'Brain_1.GGGTTTCGTATTTCACTT',\n",
       " 'Brain_1.AACGCCCCGCTATATGTA',\n",
       " 'Brain_1.CTCGCAGTAATGGGTACA',\n",
       " 'Brain_1.AACGCCGATCTTGCCCTC',\n",
       " 'Brain_1.TAGTCGGGTACACGTATT',\n",
       " 'Brain_1.CCTAGAGAGGAGTAGTCG',\n",
       " 'Brain_1.CCTAGACCTAGAGTAATG',\n",
       " 'Brain_1.AAAGTTTTAACTACGTTG',\n",
       " 'Brain_2.ACACCCCTGTGTTAGCAT',\n",
       " 'Brain_2.TGCAATTATTGTAGGGTC',\n",
       " 'Brain_1.ATCAACCGCTTGACACCC',\n",
       " 'Brain_1.TCGTAATTTAGGACGTTG',\n",
       " 'Brain_1.TCGTAAGTAATGTCTACC',\n",
       " 'Brain_2.ATACAGCATGATTGATCA',\n",
       " 'Brain_1.GCCTAGTAGCATCTGTGT',\n",
       " 'Brain_1.ACGAGCGTCGGTCTCGCA',\n",
       " 'Brain_1.GTAATGGTCGGTGATCTT',\n",
       " 'Brain_1.AAAACGTAGCATCGTATT',\n",
       " 'Brain_2.CTCCATATTCCATTCCGC',\n",
       " 'Brain_1.TCGGGTAGCGAGACCTGA',\n",
       " 'Brain_1.CTGTGTTATTGTAGATGG',\n",
       " 'Brain_2.AGGACTTTGGACTGCGGA',\n",
       " 'Brain_1.GTCCCGCATGATCTCGCA',\n",
       " 'Brain_2.CCTTTCCGCTTGACGTTG',\n",
       " 'Brain_1.CCGACGGGGTTTTTCATA',\n",
       " 'Brain_1.ATTCCAAACCTAACCTGA',\n",
       " 'Brain_1.GCAGGAATACAGAAGCGG',\n",
       " 'Brain_1.CAAAGTTACTTCAGCGAG',\n",
       " 'Brain_1.TACTTCCTGTGTCCGCTA',\n",
       " 'Brain_1.ACCTGAGAGATCCGTATT',\n",
       " 'Brain_2.CTCCATCCGACGCGAGTA',\n",
       " 'Brain_1.CGTGGCGAACGCCGCACC',\n",
       " 'Brain_1.AGTTTATGAAGCCTGTGT',\n",
       " 'Brain_2.AACCTAGGTACACTTCTG',\n",
       " 'Brain_1.AACCTAACGAGCTAGAGA',\n",
       " 'Brain_1.TGTGCGCCATCTTTGGAC',\n",
       " 'Brain_1.ATACAGATTCCAAGTTTA',\n",
       " 'Brain_1.CGAGTACTCCATTCAAAG',\n",
       " 'Brain_1.CATCCCCCGCTATGGATG',\n",
       " 'Brain_1.GAATTAAACGCCCCTTTC',\n",
       " 'Brain_1.ATGCTTGCGAATGCAGGA',\n",
       " 'Brain_1.CAACAACCGACGGCCCTC',\n",
       " 'Brain_2.GCCTAGGAACGCAGCGAG',\n",
       " 'Brain_1.ACACCCGGTACAGCGAAT',\n",
       " 'Brain_1.AAAGTTAGCGAGCTCGCA',\n",
       " 'Brain_1.CCTAGACACAAGGCCCTC',\n",
       " 'Brain_2.TATGTAAAGTACGGACAT',\n",
       " 'Brain_2.CAACAATAGAGAAATAAA',\n",
       " 'Brain_1.TACTTCAGCGAGCTCGCA',\n",
       " 'Brain_1.ACCTGAAGTTTATCGTAA',\n",
       " 'Brain_1.TGGATGTGCGGATCGTAA',\n",
       " 'Brain_1.AAAACGGCTCAAAGTTTA',\n",
       " 'Brain_2.CGAGTATTCATAACGAGC',\n",
       " 'Brain_1.CACAAGAATAAAATGCTT',\n",
       " 'Brain_1.GACACTGCCTAGGCGAAT',\n",
       " 'Brain_1.CCGCTACCTAGAGGGTTT',\n",
       " 'Brain_1.TTGGACCTGTGTAAAACG',\n",
       " 'Brain_1.TCGTAATCTACCATCTCT',\n",
       " 'Brain_1.AAAACGCTGTGTTACTTC',\n",
       " 'Brain_1.TGAAGCAAAACGGGGCGA',\n",
       " 'Brain_1.TTCCGCCATGATTGGATG',\n",
       " 'Brain_1.TAAGGGATCTCTAGATGG',\n",
       " 'Brain_2.TAGCATGATCTTCGCTTG',\n",
       " 'Brain_1.GGGTTTTGTGCGCTTCTG',\n",
       " 'Brain_2.CTGAAATTCATAGCGTCC',\n",
       " 'Brain_1.TAGCATACAATAAGATGG',\n",
       " 'Brain_1.CTCCATTTGGACCTGTGT',\n",
       " 'Brain_2.CGAGTACCAGACGCAGGA',\n",
       " 'Brain_1.CTGTGTGCTGTGCCGACG',\n",
       " 'Brain_1.CCTAGAACAATAAAGCGG',\n",
       " 'Brain_2.AGGACTGGCTGCACACCC',\n",
       " 'Brain_1.ACAATATCTACCTTCATA',\n",
       " 'Brain_2.CAACAATGCAATTCGTAA',\n",
       " 'Brain_1.CATCCCCCATCTATGGCG',\n",
       " 'Brain_1.TCACTTTGTGCGTGTGCG',\n",
       " 'Brain_1.GCTGTGGGACATTCAAAG',\n",
       " 'Brain_1.GAGATCCCATCTATGGCG',\n",
       " 'Brain_1.CATCCCTGTGCGGCTCAA',\n",
       " 'Brain_1.AATAAATACTTCCTCGCA',\n",
       " 'Brain_1.GCGAATTTTAGGTTTAGG',\n",
       " 'Brain_1.TATGTATAGCATAATAAA',\n",
       " 'Brain_2.CCAGACATCAACATTTGC',\n",
       " 'Brain_1.GCGTCCTCGTAATTTAGG',\n",
       " 'Brain_1.GATCTTATCTCTATACAG',\n",
       " 'Brain_2.ATGCTTCTCCATTGTGCG',\n",
       " 'Brain_2.GGACATTCAAAGCATGAT',\n",
       " 'Brain_1.AGATGGGAGATCCTTCTG',\n",
       " 'Brain_2.ACAATAAGCGAGGAACGC',\n",
       " 'Brain_1.AGTTTATTTAGGGGTACA',\n",
       " 'Brain_1.CTCCATATGCTTAGCGAG',\n",
       " 'Brain_1.TACTTCGATCTTCGCACC',\n",
       " 'Brain_1.ATCTCTACACCCTTCATA',\n",
       " 'Brain_1.CTCGCACTGAAACGGCAG',\n",
       " 'Brain_1.CCATCTGATCTTGCGAAT',\n",
       " 'Brain_1.AGTTTACGAGTAGCCTAG',\n",
       " 'Brain_2.CGAGTAGTCCCGAAAACG',\n",
       " ...]"
      ]
     },
     "execution_count": 16,
     "metadata": {},
     "output_type": "execute_result"
    }
   ],
   "source": [
    "list(brain_samples['Cell_ID'])"
   ]
  },
  {
   "cell_type": "code",
   "execution_count": 39,
   "metadata": {},
   "outputs": [],
   "source": [
    "mca_data_file = '../data/Figure2-batch-removed.txt'"
   ]
  },
  {
   "cell_type": "code",
   "execution_count": 68,
   "metadata": {},
   "outputs": [],
   "source": [
    "mca_data = pd.read_csv(mca_data_file, usecols=list(brain_samples['Cell_ID']), sep='\\t')"
   ]
  },
  {
   "cell_type": "code",
   "execution_count": 19,
   "metadata": {},
   "outputs": [
    {
     "data": {
      "text/plain": [
       "(25133, 1500)"
      ]
     },
     "execution_count": 19,
     "metadata": {},
     "output_type": "execute_result"
    }
   ],
   "source": [
    "mca_data.shape\n"
   ]
  },
  {
   "cell_type": "code",
   "execution_count": 20,
   "metadata": {},
   "outputs": [
    {
     "data": {
      "text/html": [
       "<div>\n",
       "<style>\n",
       "    .dataframe thead tr:only-child th {\n",
       "        text-align: right;\n",
       "    }\n",
       "\n",
       "    .dataframe thead th {\n",
       "        text-align: left;\n",
       "    }\n",
       "\n",
       "    .dataframe tbody tr th {\n",
       "        vertical-align: top;\n",
       "    }\n",
       "</style>\n",
       "<table border=\"1\" class=\"dataframe\">\n",
       "  <thead>\n",
       "    <tr style=\"text-align: right;\">\n",
       "      <th></th>\n",
       "      <th>Brain_1.TCTACCTTTAGGGAGATC</th>\n",
       "      <th>Brain_1.TAAGGGATGCTTGAATTA</th>\n",
       "      <th>Brain_1.CCAGACTGTGCGAACGCC</th>\n",
       "      <th>Brain_1.ATTCCACGTGGCCCTTTC</th>\n",
       "      <th>Brain_1.GAATTACTCCATATCTCT</th>\n",
       "      <th>Brain_1.TAGCATGAGGAGGAACGC</th>\n",
       "      <th>Brain_2.ACTTATGTATACCCTTTC</th>\n",
       "      <th>Brain_2.CGAGTAAGTTTATGCAAT</th>\n",
       "      <th>Brain_1.TAGAGAGGGCGAACCTGA</th>\n",
       "      <th>Brain_1.CTCCATAACCTAGTTGCC</th>\n",
       "      <th>...</th>\n",
       "      <th>Brain_1.TGAAGCTATGTAGCCTAG</th>\n",
       "      <th>Brain_1.GAACGCTTGGACAAAGTT</th>\n",
       "      <th>Brain_1.GACACTCCATCTCACAAG</th>\n",
       "      <th>Brain_1.GTCCCGCGCTTGTTCCGC</th>\n",
       "      <th>Brain_1.CCGCTAGCGTCCCTCCAT</th>\n",
       "      <th>Brain_1.CTCGCACGTATTCACAAG</th>\n",
       "      <th>Brain_1.CAACAACTGTGTGCTCAA</th>\n",
       "      <th>Brain_1.CTCGCAAACGCCCTTCTG</th>\n",
       "      <th>Brain_1.CATCCCGAACGCCTCGCA</th>\n",
       "      <th>Brain_1.CCGCTAGCCTAGGCCCTC</th>\n",
       "    </tr>\n",
       "  </thead>\n",
       "  <tbody>\n",
       "    <tr>\n",
       "      <th>Zyg11a</th>\n",
       "      <td>0</td>\n",
       "      <td>0</td>\n",
       "      <td>0</td>\n",
       "      <td>0</td>\n",
       "      <td>0</td>\n",
       "      <td>0</td>\n",
       "      <td>0</td>\n",
       "      <td>0</td>\n",
       "      <td>0</td>\n",
       "      <td>0</td>\n",
       "      <td>...</td>\n",
       "      <td>0</td>\n",
       "      <td>0</td>\n",
       "      <td>0</td>\n",
       "      <td>0</td>\n",
       "      <td>0</td>\n",
       "      <td>0</td>\n",
       "      <td>0</td>\n",
       "      <td>0</td>\n",
       "      <td>0</td>\n",
       "      <td>0</td>\n",
       "    </tr>\n",
       "    <tr>\n",
       "      <th>Zyg11b</th>\n",
       "      <td>0</td>\n",
       "      <td>0</td>\n",
       "      <td>0</td>\n",
       "      <td>0</td>\n",
       "      <td>0</td>\n",
       "      <td>0</td>\n",
       "      <td>0</td>\n",
       "      <td>0</td>\n",
       "      <td>0</td>\n",
       "      <td>0</td>\n",
       "      <td>...</td>\n",
       "      <td>0</td>\n",
       "      <td>0</td>\n",
       "      <td>0</td>\n",
       "      <td>0</td>\n",
       "      <td>0</td>\n",
       "      <td>0</td>\n",
       "      <td>0</td>\n",
       "      <td>0</td>\n",
       "      <td>0</td>\n",
       "      <td>0</td>\n",
       "    </tr>\n",
       "    <tr>\n",
       "      <th>Zyx</th>\n",
       "      <td>0</td>\n",
       "      <td>0</td>\n",
       "      <td>0</td>\n",
       "      <td>0</td>\n",
       "      <td>0</td>\n",
       "      <td>0</td>\n",
       "      <td>0</td>\n",
       "      <td>0</td>\n",
       "      <td>1</td>\n",
       "      <td>0</td>\n",
       "      <td>...</td>\n",
       "      <td>0</td>\n",
       "      <td>0</td>\n",
       "      <td>0</td>\n",
       "      <td>0</td>\n",
       "      <td>0</td>\n",
       "      <td>0</td>\n",
       "      <td>0</td>\n",
       "      <td>0</td>\n",
       "      <td>0</td>\n",
       "      <td>0</td>\n",
       "    </tr>\n",
       "    <tr>\n",
       "      <th>Zzef1</th>\n",
       "      <td>0</td>\n",
       "      <td>0</td>\n",
       "      <td>0</td>\n",
       "      <td>0</td>\n",
       "      <td>0</td>\n",
       "      <td>0</td>\n",
       "      <td>0</td>\n",
       "      <td>0</td>\n",
       "      <td>0</td>\n",
       "      <td>0</td>\n",
       "      <td>...</td>\n",
       "      <td>0</td>\n",
       "      <td>0</td>\n",
       "      <td>0</td>\n",
       "      <td>0</td>\n",
       "      <td>0</td>\n",
       "      <td>0</td>\n",
       "      <td>0</td>\n",
       "      <td>0</td>\n",
       "      <td>0</td>\n",
       "      <td>0</td>\n",
       "    </tr>\n",
       "    <tr>\n",
       "      <th>Zzz3</th>\n",
       "      <td>0</td>\n",
       "      <td>0</td>\n",
       "      <td>0</td>\n",
       "      <td>0</td>\n",
       "      <td>0</td>\n",
       "      <td>0</td>\n",
       "      <td>1</td>\n",
       "      <td>0</td>\n",
       "      <td>0</td>\n",
       "      <td>0</td>\n",
       "      <td>...</td>\n",
       "      <td>0</td>\n",
       "      <td>0</td>\n",
       "      <td>0</td>\n",
       "      <td>0</td>\n",
       "      <td>0</td>\n",
       "      <td>0</td>\n",
       "      <td>0</td>\n",
       "      <td>0</td>\n",
       "      <td>0</td>\n",
       "      <td>0</td>\n",
       "    </tr>\n",
       "  </tbody>\n",
       "</table>\n",
       "<p>5 rows × 1500 columns</p>\n",
       "</div>"
      ],
      "text/plain": [
       "        Brain_1.TCTACCTTTAGGGAGATC  Brain_1.TAAGGGATGCTTGAATTA  \\\n",
       "Zyg11a                           0                           0   \n",
       "Zyg11b                           0                           0   \n",
       "Zyx                              0                           0   \n",
       "Zzef1                            0                           0   \n",
       "Zzz3                             0                           0   \n",
       "\n",
       "        Brain_1.CCAGACTGTGCGAACGCC  Brain_1.ATTCCACGTGGCCCTTTC  \\\n",
       "Zyg11a                           0                           0   \n",
       "Zyg11b                           0                           0   \n",
       "Zyx                              0                           0   \n",
       "Zzef1                            0                           0   \n",
       "Zzz3                             0                           0   \n",
       "\n",
       "        Brain_1.GAATTACTCCATATCTCT  Brain_1.TAGCATGAGGAGGAACGC  \\\n",
       "Zyg11a                           0                           0   \n",
       "Zyg11b                           0                           0   \n",
       "Zyx                              0                           0   \n",
       "Zzef1                            0                           0   \n",
       "Zzz3                             0                           0   \n",
       "\n",
       "        Brain_2.ACTTATGTATACCCTTTC  Brain_2.CGAGTAAGTTTATGCAAT  \\\n",
       "Zyg11a                           0                           0   \n",
       "Zyg11b                           0                           0   \n",
       "Zyx                              0                           0   \n",
       "Zzef1                            0                           0   \n",
       "Zzz3                             1                           0   \n",
       "\n",
       "        Brain_1.TAGAGAGGGCGAACCTGA  Brain_1.CTCCATAACCTAGTTGCC  \\\n",
       "Zyg11a                           0                           0   \n",
       "Zyg11b                           0                           0   \n",
       "Zyx                              1                           0   \n",
       "Zzef1                            0                           0   \n",
       "Zzz3                             0                           0   \n",
       "\n",
       "                   ...              Brain_1.TGAAGCTATGTAGCCTAG  \\\n",
       "Zyg11a             ...                                       0   \n",
       "Zyg11b             ...                                       0   \n",
       "Zyx                ...                                       0   \n",
       "Zzef1              ...                                       0   \n",
       "Zzz3               ...                                       0   \n",
       "\n",
       "        Brain_1.GAACGCTTGGACAAAGTT  Brain_1.GACACTCCATCTCACAAG  \\\n",
       "Zyg11a                           0                           0   \n",
       "Zyg11b                           0                           0   \n",
       "Zyx                              0                           0   \n",
       "Zzef1                            0                           0   \n",
       "Zzz3                             0                           0   \n",
       "\n",
       "        Brain_1.GTCCCGCGCTTGTTCCGC  Brain_1.CCGCTAGCGTCCCTCCAT  \\\n",
       "Zyg11a                           0                           0   \n",
       "Zyg11b                           0                           0   \n",
       "Zyx                              0                           0   \n",
       "Zzef1                            0                           0   \n",
       "Zzz3                             0                           0   \n",
       "\n",
       "        Brain_1.CTCGCACGTATTCACAAG  Brain_1.CAACAACTGTGTGCTCAA  \\\n",
       "Zyg11a                           0                           0   \n",
       "Zyg11b                           0                           0   \n",
       "Zyx                              0                           0   \n",
       "Zzef1                            0                           0   \n",
       "Zzz3                             0                           0   \n",
       "\n",
       "        Brain_1.CTCGCAAACGCCCTTCTG  Brain_1.CATCCCGAACGCCTCGCA  \\\n",
       "Zyg11a                           0                           0   \n",
       "Zyg11b                           0                           0   \n",
       "Zyx                              0                           0   \n",
       "Zzef1                            0                           0   \n",
       "Zzz3                             0                           0   \n",
       "\n",
       "        Brain_1.CCGCTAGCCTAGGCCCTC  \n",
       "Zyg11a                           0  \n",
       "Zyg11b                           0  \n",
       "Zyx                              0  \n",
       "Zzef1                            0  \n",
       "Zzz3                             0  \n",
       "\n",
       "[5 rows x 1500 columns]"
      ]
     },
     "execution_count": 20,
     "metadata": {},
     "output_type": "execute_result"
    }
   ],
   "source": [
    "mca_data.tail()"
   ]
  },
  {
   "cell_type": "code",
   "execution_count": 21,
   "metadata": {},
   "outputs": [
    {
     "data": {
      "text/plain": [
       "Ptgds      58\n",
       "Plp1       34\n",
       "Fth1       18\n",
       "Trf        10\n",
       "mt-Cytb    10\n",
       "mt-Nd1      6\n",
       "Cldn11      6\n",
       "Gpm6b       6\n",
       "Sept4       5\n",
       "Mbp         5\n",
       "Son         4\n",
       "Syt11       4\n",
       "Tmem88b     4\n",
       "Tmsb4x      4\n",
       "Arpc1a      3\n",
       "Rpl11       3\n",
       "Josd2       3\n",
       "Cox6c       3\n",
       "Qk          3\n",
       "Tsc22d4     3\n",
       "Name: Brain_1.CCAGACTGTGCGAACGCC, dtype: int64"
      ]
     },
     "execution_count": 21,
     "metadata": {},
     "output_type": "execute_result"
    }
   ],
   "source": [
    "mca_data['Brain_1.CCAGACTGTGCGAACGCC'].sort_values(ascending=False).head(20)\n"
   ]
  },
  {
   "cell_type": "code",
   "execution_count": 22,
   "metadata": {},
   "outputs": [
    {
     "data": {
      "text/plain": [
       "Brain_1.TCTACCTTTAGGGAGATC      0\n",
       "Brain_1.TAAGGGATGCTTGAATTA      0\n",
       "Brain_1.CCAGACTGTGCGAACGCC     58\n",
       "Brain_1.ATTCCACGTGGCCCTTTC      0\n",
       "Brain_1.GAATTACTCCATATCTCT      0\n",
       "Brain_1.TAGCATGAGGAGGAACGC      0\n",
       "Brain_2.ACTTATGTATACCCTTTC      0\n",
       "Brain_2.CGAGTAAGTTTATGCAAT      0\n",
       "Brain_1.TAGAGAGGGCGAACCTGA      0\n",
       "Brain_1.CTCCATAACCTAGTTGCC      0\n",
       "Brain_1.AAAACGAAAGTTAAAACG      3\n",
       "Brain_1.CATGATGCGTCCCGTGGC      1\n",
       "Brain_1.TTCCGCGCTCAACCAGAC     28\n",
       "Brain_1.TCTACCATGGCGGCCTAG      0\n",
       "Brain_2.AACGCCGTGGTATGAAGC      9\n",
       "Brain_2.AGCGAGCACAAGCAAAGT     60\n",
       "Brain_1.GCTGTGGTCCCGGTCGGT      0\n",
       "Brain_1.CCAGACTGAAGCTCAAAG     43\n",
       "Brain_1.AGTTTAACACCCAAAGTT      0\n",
       "Brain_1.AGTTTAAACGCCGGCTGC     16\n",
       "Brain_1.TAAGGGATCAACATGCTT      3\n",
       "Brain_2.GAGGAGTAGCATTAGAGA      0\n",
       "Brain_1.TATGTAACGTTGAAAGTT      0\n",
       "Brain_1.AATAAAAGGGTCTTAACT    127\n",
       "Brain_1.CTGTGTCTGAAACGCACC      0\n",
       "Brain_1.TACTTCCGTGGCCTGTGT      0\n",
       "Brain_1.TGCGGATTGGACACGTTG      0\n",
       "Brain_1.GCGAATAAGTACTTCCGC      5\n",
       "Brain_1.CTCGCACGAGTATTCCGC    114\n",
       "Brain_1.TTTAGGGAGGAGAGTTTA      0\n",
       "                             ... \n",
       "Brain_1.ACCTGACCTAGAGTTGCC      0\n",
       "Brain_1.AACGCCGTCCCGATCAAC     53\n",
       "Brain_1.CCGCTACTGTGTGCGAAT      0\n",
       "Brain_1.CCATCTCCTAGAGCCTAG      0\n",
       "Brain_1.CCTAGAATTCCAATCTCT      0\n",
       "Brain_2.ATCTCTGGGTTTGTCGGT      0\n",
       "Brain_1.TTCCGCCTCGCAATACAG      6\n",
       "Brain_2.TAGCATCTCCATATCAAC      0\n",
       "Brain_1.GCTGTGTTGGACGACACT      0\n",
       "Brain_1.AATAAAGTCCCGGTCGGT      0\n",
       "Brain_1.CTGTGTGTAATGATTCCA    116\n",
       "Brain_2.ACAATACCGACGACTTAT     39\n",
       "Brain_1.TCACTTGAGATCGCAGGA      0\n",
       "Brain_1.ACACCCCTCCATCGAGTA     11\n",
       "Brain_1.AAAACGATGCTTCGCACC      0\n",
       "Brain_1.TGTGCGCATGATAAGCGG      0\n",
       "Brain_2.AACCTATGGATGACCTGA      1\n",
       "Brain_2.ATCAACGCCCTCCTTCTG      0\n",
       "Brain_1.GCAGGAAAAACGAGCGAG     49\n",
       "Brain_1.TAAGGGCTCCATCATCCC     19\n",
       "Brain_1.TGAAGCTATGTAGCCTAG      0\n",
       "Brain_1.GAACGCTTGGACAAAGTT      0\n",
       "Brain_1.GACACTCCATCTCACAAG      0\n",
       "Brain_1.GTCCCGCGCTTGTTCCGC      0\n",
       "Brain_1.CCGCTAGCGTCCCTCCAT      0\n",
       "Brain_1.CTCGCACGTATTCACAAG      0\n",
       "Brain_1.CAACAACTGTGTGCTCAA      0\n",
       "Brain_1.CTCGCAAACGCCCTTCTG      4\n",
       "Brain_1.CATCCCGAACGCCTCGCA     16\n",
       "Brain_1.CCGCTAGCCTAGGCCCTC      0\n",
       "Name: Ptgds, Length: 1500, dtype: int64"
      ]
     },
     "execution_count": 22,
     "metadata": {},
     "output_type": "execute_result"
    }
   ],
   "source": [
    "mca_data.loc['Ptgds']"
   ]
  },
  {
   "cell_type": "code",
   "execution_count": 23,
   "metadata": {},
   "outputs": [
    {
     "data": {
      "text/plain": [
       "Index(['Brain_1.TCTACCTTTAGGGAGATC', 'Brain_1.TAAGGGATGCTTGAATTA',\n",
       "       'Brain_1.CCAGACTGTGCGAACGCC', 'Brain_1.ATTCCACGTGGCCCTTTC',\n",
       "       'Brain_1.GAATTACTCCATATCTCT', 'Brain_1.TAGCATGAGGAGGAACGC',\n",
       "       'Brain_2.ACTTATGTATACCCTTTC', 'Brain_2.CGAGTAAGTTTATGCAAT',\n",
       "       'Brain_1.TAGAGAGGGCGAACCTGA', 'Brain_1.CTCCATAACCTAGTTGCC',\n",
       "       ...\n",
       "       'Brain_1.TGAAGCTATGTAGCCTAG', 'Brain_1.GAACGCTTGGACAAAGTT',\n",
       "       'Brain_1.GACACTCCATCTCACAAG', 'Brain_1.GTCCCGCGCTTGTTCCGC',\n",
       "       'Brain_1.CCGCTAGCGTCCCTCCAT', 'Brain_1.CTCGCACGTATTCACAAG',\n",
       "       'Brain_1.CAACAACTGTGTGCTCAA', 'Brain_1.CTCGCAAACGCCCTTCTG',\n",
       "       'Brain_1.CATCCCGAACGCCTCGCA', 'Brain_1.CCGCTAGCCTAGGCCCTC'],\n",
       "      dtype='object', length=1500)"
      ]
     },
     "execution_count": 23,
     "metadata": {},
     "output_type": "execute_result"
    }
   ],
   "source": [
    "mca_data.loc['Ptgds'].index\n"
   ]
  },
  {
   "cell_type": "code",
   "execution_count": 30,
   "metadata": {},
   "outputs": [],
   "source": [
    "metadata = metadata.set_index('Cell_ID', drop=False) \n"
   ]
  },
  {
   "cell_type": "code",
   "execution_count": 32,
   "metadata": {},
   "outputs": [
    {
     "data": {
      "text/plain": [
       "Index(['Uterus_1.CTGTGTAAGTACAGGGTC', 'Uterus_2.GTAATGCCAGACCCGACG',\n",
       "       'Uterus_1.AGGGTCAAGCGGAACGCC', 'Uterus_1.ATTCCACGAGTAATACAG',\n",
       "       'Uterus_1.ACACCCTTTAGGTAGCAT', 'Uterus_1.CCTTTCACTTATGTCCCG',\n",
       "       'Uterus_1.GCTCAAAAAGTTAAAACG', 'Uterus_1.TCGTAAATCAACCCAGAC',\n",
       "       'Uterus_1.GAACGCCATGATTGCGGA', 'Uterus_2.AACCTACGTGGCTCTACC',\n",
       "       ...\n",
       "       'Bladder_1.GAGATCAAGCGGTTTAGG', 'Bladder_1.AACCTAGTGGTACATGAT',\n",
       "       'Bladder_1.CGTATTATACAGAACCTA', 'Bladder_1.AAGTACTAGTCGATGCTT',\n",
       "       'Bladder_1.GTCGGTAACGCCTGATCA', 'Bladder_1.ATGGCGAAAGTTTGTCAC',\n",
       "       'Bladder_1.ATCTCTTTCATAGATCTT', 'Bladder_1.CGCACCAAAACGCAAAGT',\n",
       "       'Bladder_1.GAGGAGCGCTTGATACAG', 'Bladder_1.AGTTTATTTAGGGAGGAG'],\n",
       "      dtype='object', name='Cell_ID', length=61637)"
      ]
     },
     "execution_count": 32,
     "metadata": {},
     "output_type": "execute_result"
    }
   ],
   "source": [
    "metadata.index"
   ]
  },
  {
   "cell_type": "code",
   "execution_count": 33,
   "metadata": {},
   "outputs": [],
   "source": [
    "def boxplot(gene_name):\n",
    "    metadata.merge(mca_data.loc[gene_name].to_frame(), left_on='Cell_ID', right_index=True).boxplot(column=gene_name, by='Cell type')\n",
    "    plt.show()"
   ]
  },
  {
   "cell_type": "code",
   "execution_count": 35,
   "metadata": {},
   "outputs": [
    {
     "name": "stderr",
     "output_type": "stream",
     "text": [
      "/home/alabarga/NavarraBiomed/tesis/.tesis-env/lib/python3.6/site-packages/numpy/core/fromnumeric.py:52: FutureWarning: reshape is deprecated and will raise in a subsequent release. Please use .values.reshape(...) instead\n",
      "  return getattr(obj, method)(*args, **kwds)\n"
     ]
    },
    {
     "data": {
      "image/png": "[encoded data removed]",
      "text/plain": [
       "<Figure size 1080x432 with 1 Axes>"
      ]
     },
     "metadata": {},
     "output_type": "display_data"
    }
   ],
   "source": [
    "boxplot('Ptgds')"
   ]
  },
  {
   "cell_type": "code",
   "execution_count": 36,
   "metadata": {},
   "outputs": [
    {
     "name": "stderr",
     "output_type": "stream",
     "text": [
      "/home/alabarga/NavarraBiomed/tesis/.tesis-env/lib/python3.6/site-packages/numpy/core/fromnumeric.py:52: FutureWarning: reshape is deprecated and will raise in a subsequent release. Please use .values.reshape(...) instead\n",
      "  return getattr(obj, method)(*args, **kwds)\n"
     ]
    },
    {
     "data": {
      "image/png": "[encoded data removed]",
      "text/plain": [
       "<Figure size 1080x432 with 1 Axes>"
      ]
     },
     "metadata": {},
     "output_type": "display_data"
    },
    {
     "data": {
      "image/png": "[encoded data removed]",
      "text/plain": [
       "<Figure size 1080x432 with 1 Axes>"
      ]
     },
     "metadata": {},
     "output_type": "display_data"
    },
    {
     "data": {
      "image/png": "[encoded data removed]",
      "text/plain": [
       "<Figure size 1080x432 with 1 Axes>"
      ]
     },
     "metadata": {},
     "output_type": "display_data"
    },
    {
     "data": {
      "image/png": "[encoded data removed]",
      "text/plain": [
       "<Figure size 1080x432 with 1 Axes>"
      ]
     },
     "metadata": {},
     "output_type": "display_data"
    },
    {
     "data": {
      "image/png": "[encoded data removed]",
      "text/plain": [
       "<Figure size 1080x432 with 1 Axes>"
      ]
     },
     "metadata": {},
     "output_type": "display_data"
    }
   ],
   "source": [
    "for gene in mca_data['Brain_1.CCAGACTGTGCGAACGCC'].sort_values(ascending=False).head().index:\n",
    "    boxplot(gene)\n",
    "    "
   ]
  },
  {
   "cell_type": "code",
   "execution_count": 7,
   "metadata": {},
   "outputs": [],
   "source": [
    "from sklearn.decomposition import PCA"
   ]
  },
  {
   "cell_type": "code",
   "execution_count": 50,
   "metadata": {},
   "outputs": [],
   "source": [
    "pca = PCA(n_components=100)\n",
    "pca_result = pca.fit_transform(mca_data.transpose())"
   ]
  },
  {
   "cell_type": "code",
   "execution_count": 36,
   "metadata": {},
   "outputs": [
    {
     "data": {
      "text/plain": [
       "25133"
      ]
     },
     "execution_count": 36,
     "metadata": {},
     "output_type": "execute_result"
    }
   ],
   "source": [
    "len(pca.components_[0])"
   ]
  },
  {
   "cell_type": "code",
   "execution_count": 51,
   "metadata": {},
   "outputs": [
    {
     "name": "stdout",
     "output_type": "stream",
     "text": [
      "Explained variation per principal component: [0.36705806 0.15517578 0.08029031 0.05405876 0.03841643 0.02151001\n",
      " 0.01902391 0.01198698 0.00989394 0.00758868 0.00640877 0.0046817\n",
      " 0.00375652 0.00359541 0.00355524 0.00344172 0.00294859 0.00278923\n",
      " 0.00248031 0.00228695 0.00188291 0.00168804 0.0016754  0.00155047\n",
      " 0.00143483 0.00139593 0.00133904 0.00131963 0.00124794 0.00119861\n",
      " 0.00118012 0.00113365 0.00109886 0.0010488  0.00102084 0.00101208\n",
      " 0.00097996 0.00096206 0.00094565 0.00092764 0.00089976 0.00087459\n",
      " 0.0008417  0.00080764 0.0007951  0.00079181 0.0007692  0.00075734\n",
      " 0.00074124 0.00073754 0.00072122 0.00070995 0.00070597 0.00068733\n",
      " 0.00068562 0.00066206 0.00065701 0.00064962 0.00063488 0.00062238\n",
      " 0.00061733 0.00061362 0.00060768 0.00059383 0.00058674 0.00057698\n",
      " 0.00056936 0.00055541 0.00055526 0.00055034 0.00054283 0.00053829\n",
      " 0.00053274 0.00052593 0.00052384 0.00052297 0.00051869 0.00050909\n",
      " 0.00050178 0.00049485 0.0004906  0.00048385 0.00048238 0.00047825\n",
      " 0.00047058 0.0004664  0.00046118 0.00045731 0.00045158 0.00044799\n",
      " 0.00044465 0.00044338 0.00043396 0.00043256 0.00042637 0.00042491\n",
      " 0.00042242 0.00041758 0.000414   0.0004027 ]\n"
     ]
    }
   ],
   "source": [
    "print('Explained variation per principal component: {}'.format(pca.explained_variance_ratio_))"
   ]
  },
  {
   "cell_type": "code",
   "execution_count": 10,
   "metadata": {},
   "outputs": [
    {
     "data": {
      "text/plain": [
       "array([[-2.03718488e+00, -4.05177909e-01,  6.51679718e-02,\n",
       "        -5.61836233e-01, -5.09112595e-01,  5.68000482e-01,\n",
       "         3.80861511e-01,  1.42126701e-01,  6.86273155e-02,\n",
       "         7.75090235e-02,  2.82838929e-03,  1.34731435e-01,\n",
       "         9.82308142e-02,  3.45709383e-04, -3.87960424e-02,\n",
       "         1.42908674e-02,  1.54140958e-02, -1.13662979e-02,\n",
       "         8.75904463e-03, -2.63418055e-02,  3.97000452e-02,\n",
       "         2.33771390e-02,  3.98044564e-02,  3.54521714e-02,\n",
       "        -8.56644153e-03,  3.61124825e-03, -6.64648946e-04,\n",
       "        -7.02144191e-03, -1.51443235e-02, -6.37843502e-02,\n",
       "        -1.10421995e-02, -5.18284347e-03,  1.99370365e-02,\n",
       "        -6.45688161e-04, -3.29613881e-02, -8.19319810e-03,\n",
       "         1.04204038e-02, -1.36477087e-02,  4.02496639e-03,\n",
       "        -8.32693138e-03,  8.63324504e-03,  2.68438679e-03,\n",
       "         7.30690046e-03,  3.88161806e-03, -7.44931140e-03,\n",
       "         4.19668910e-03, -1.40242912e-02, -9.45325579e-03,\n",
       "         1.15868788e-02,  1.61334418e-02],\n",
       "       [ 4.27427949e+00,  7.91356888e-01,  1.48567254e+00,\n",
       "         2.45650557e-02,  3.50997035e-01, -3.31874692e+00,\n",
       "         1.03118378e+00, -8.93231141e-01, -1.07724333e-01,\n",
       "        -2.14115822e-01,  1.48624898e+00, -3.26200763e-01,\n",
       "         4.01395692e-01,  2.06023635e-02,  6.10975838e-01,\n",
       "        -1.76312117e+00, -1.76584135e-01, -5.46401802e-01,\n",
       "         1.20330311e+00, -1.31563797e+00,  2.05402451e-01,\n",
       "         5.92392316e-01, -3.25438550e-01, -5.30964623e-02,\n",
       "        -3.07059009e-01,  9.61625630e-01,  2.75331494e-01,\n",
       "         6.66856299e-01,  7.97663068e-01,  3.73591514e-01,\n",
       "        -3.69285951e-01, -4.38911740e-01,  6.82484561e-01,\n",
       "        -1.20095153e+00,  5.89995363e-01, -2.26579308e-01,\n",
       "         7.87388849e-01,  4.78087917e-01, -2.11967948e-01,\n",
       "        -8.07929921e-02, -7.14922314e-01, -7.75589131e-02,\n",
       "         3.18701915e-01, -4.26281661e-01, -2.64078882e-01,\n",
       "        -5.19264840e-01, -1.17300109e+00, -5.56847850e-01,\n",
       "         3.95731434e-02,  5.11865096e-01],\n",
       "       [ 2.56412532e+00,  7.45366488e-01,  7.10653434e-03,\n",
       "         7.61064049e-02,  4.62290458e-01, -1.14357842e+00,\n",
       "         5.22105008e-02, -9.30457318e-01, -8.02384136e-01,\n",
       "        -2.22406422e-01, -2.12270545e-01,  4.56333665e-01,\n",
       "         6.23600648e-01, -2.81539694e-01,  2.83863966e-01,\n",
       "         2.59540454e-01, -4.95933943e-01, -6.36190791e-02,\n",
       "         1.18555656e-01, -5.54058278e-01, -4.75690056e-01,\n",
       "        -3.38580957e-01, -1.56277949e-01,  1.51961645e-01,\n",
       "         1.78983552e-01,  6.36113783e-01,  4.62926239e-01,\n",
       "        -5.88472042e-01,  1.43347371e-01,  3.24644388e-01,\n",
       "         6.32587101e-01, -3.66263447e-01, -2.66807269e-01,\n",
       "        -9.51487440e-01, -4.12266002e-01, -7.69181486e-01,\n",
       "        -2.64847049e-01,  6.62947833e-01, -4.66237841e-01,\n",
       "         4.92902683e-01,  3.30023929e-01,  2.77292731e-01,\n",
       "         4.71823701e-01, -1.96959955e-01, -8.56130998e-02,\n",
       "         2.82554752e-01, -1.78299575e-01,  1.07319646e+00,\n",
       "         9.44827363e-01,  6.36881195e-01],\n",
       "       [-2.03718488e+00, -4.05177909e-01,  6.51679718e-02,\n",
       "        -5.61836233e-01, -5.09112595e-01,  5.68000482e-01,\n",
       "         3.80861511e-01,  1.42126701e-01,  6.86273155e-02,\n",
       "         7.75090235e-02,  2.82838929e-03,  1.34731435e-01,\n",
       "         9.82308142e-02,  3.45709391e-04, -3.87960424e-02,\n",
       "         1.42908674e-02,  1.54140958e-02, -1.13662979e-02,\n",
       "         8.75904464e-03, -2.63418055e-02,  3.97000452e-02,\n",
       "         2.33771390e-02,  3.98044564e-02,  3.54521714e-02,\n",
       "        -8.56644153e-03,  3.61124825e-03, -6.64648945e-04,\n",
       "        -7.02144191e-03, -1.51443235e-02, -6.37843502e-02,\n",
       "        -1.10421995e-02, -5.18284347e-03,  1.99370365e-02,\n",
       "        -6.45688167e-04, -3.29613881e-02, -8.19319810e-03,\n",
       "         1.04204038e-02, -1.36477087e-02,  4.02496640e-03,\n",
       "        -8.32693138e-03,  8.63324504e-03,  2.68438679e-03,\n",
       "         7.30690045e-03,  3.88161804e-03, -7.44931139e-03,\n",
       "         4.19668911e-03, -1.40242912e-02, -9.45325579e-03,\n",
       "         1.15868788e-02,  1.61334418e-02],\n",
       "       [-1.89232315e+00,  6.64773243e-02,  7.48236273e-02,\n",
       "        -5.46572286e-01, -4.80502051e-01,  3.01618035e-01,\n",
       "         4.43944283e-01,  1.45132987e-01,  1.48270270e-01,\n",
       "         1.99489942e-01,  5.03229390e-01, -2.41252951e-02,\n",
       "         1.30185796e-01,  1.27445553e-01, -4.00735865e-02,\n",
       "        -3.71239592e-01, -9.31538787e-02, -4.06173592e-01,\n",
       "         2.25296550e-01, -1.73860110e-01,  1.96411855e-01,\n",
       "        -1.45348086e-01,  1.18370790e-01, -4.42943633e-03,\n",
       "        -4.48508569e-02,  1.84482204e-01,  7.27160903e-02,\n",
       "        -1.42717672e-01, -6.45811818e-02,  4.57509943e-02,\n",
       "        -1.55221936e-01,  7.25738428e-02,  1.91199355e-01,\n",
       "        -6.99273113e-03, -4.49828803e-02, -2.10882110e-01,\n",
       "         1.55353812e-01,  3.50218009e-02, -6.18141215e-02,\n",
       "        -4.32803506e-02,  3.03277223e-02, -8.01525952e-02,\n",
       "        -1.62965172e-02,  8.54961104e-02, -2.15421104e-03,\n",
       "         1.32366047e-02,  2.00223975e-01, -1.17040790e-01,\n",
       "        -2.09849435e-02,  1.21325855e-01],\n",
       "       [-5.96294354e-01,  1.57002667e-02, -6.53580883e-01,\n",
       "        -2.36116933e-01, -1.67327548e-02,  2.67993185e-01,\n",
       "        -7.76060523e-01,  8.57247379e-02, -2.96663436e-01,\n",
       "        -2.50384375e-01,  4.65502607e-01,  9.86723320e-02,\n",
       "        -2.90906779e-01, -6.32089664e-02,  4.79623590e-02,\n",
       "         1.79965998e-01, -4.83031127e-01, -4.48414635e-01,\n",
       "        -6.32833082e-01,  8.12424072e-01,  5.48935737e-01,\n",
       "        -4.67704764e-01, -7.57975844e-01,  7.25499106e-01,\n",
       "        -1.03310925e-03, -2.25299203e-01, -2.96594313e-01,\n",
       "        -3.35272865e-01,  7.62170214e-02,  8.31366532e-02,\n",
       "         1.26617084e-01,  2.61275703e-01, -7.02749429e-02,\n",
       "        -3.40861060e-01,  4.64418990e-01,  1.46705594e-01,\n",
       "        -7.85979432e-02,  6.68452815e-02,  3.51717440e-01,\n",
       "         2.36188036e-01, -3.12178529e-01, -2.46646541e-01,\n",
       "         1.95908963e-01,  2.10484067e-01,  3.39820059e-01,\n",
       "        -2.01839992e-01, -2.06215927e-01,  7.58762446e-01,\n",
       "         9.77815688e-01, -3.94657556e-01],\n",
       "       [ 9.75672560e-01,  6.05845867e-02,  1.80078527e-01,\n",
       "         3.60120709e-01,  6.92517125e-01, -3.04766707e-01,\n",
       "        -1.38926715e-01, -7.69785686e-01,  1.29089014e+00,\n",
       "        -3.27890716e-01, -4.50203787e-01, -1.95590007e-01,\n",
       "         2.41585547e-01,  2.53704799e-01, -3.17735635e-01,\n",
       "         1.71113456e-01, -4.52171185e-01,  3.06280946e-01,\n",
       "        -2.12831349e-03,  3.71565450e-02, -8.58782431e-02,\n",
       "        -2.79072277e-01, -3.11437222e-01,  3.79108471e-01,\n",
       "        -9.71677770e-01,  5.89070557e-01,  7.18484334e-01,\n",
       "        -1.51797481e-01,  1.40760917e-01, -3.45036592e-01,\n",
       "         3.38100661e-01,  4.39070859e-02,  1.01052244e-01,\n",
       "         2.85099779e-01, -1.91894068e-01, -8.24644186e-02,\n",
       "         1.22002940e-01,  1.68760688e-02, -3.05586083e-02,\n",
       "         7.88557113e-01, -4.18687460e-01,  6.24379457e-01,\n",
       "        -4.25019785e-01,  7.97316922e-02, -7.59364143e-02,\n",
       "         5.02079242e-02, -2.60834264e-01,  1.75372544e-01,\n",
       "        -3.36526612e-02,  6.84388765e-01],\n",
       "       [-5.91668688e-01, -5.18129757e-01, -4.72618418e-01,\n",
       "        -6.02733379e-01, -4.97885332e-01,  8.10084536e-03,\n",
       "         4.12022594e-01, -2.03329094e-01,  7.90474849e-02,\n",
       "         2.10542833e-01, -1.28845232e-01,  6.80527425e-01,\n",
       "         6.63057187e-01,  4.62590803e-02, -1.28620667e-01,\n",
       "         6.06210951e-03, -9.14471824e-02,  1.49464445e-01,\n",
       "        -1.42257562e-01, -1.26832290e-01,  1.96088103e-01,\n",
       "        -1.66899853e-01, -2.45573492e-01, -4.06355529e-01,\n",
       "         2.43719148e-01, -1.71725022e-01, -1.99951689e-01,\n",
       "        -1.65742456e-01,  4.64793860e-02,  2.09143961e-01,\n",
       "        -4.77166485e-01,  9.81467637e-02, -2.17457721e-01,\n",
       "         2.47828141e-01,  2.70595159e-01,  1.86009940e-01,\n",
       "         2.19201705e-01,  5.80061939e-02, -8.63672808e-02,\n",
       "        -1.83049888e-02, -7.17715559e-02,  1.80489988e-01,\n",
       "         1.64338614e-01,  3.28803511e-01, -2.66591674e-01,\n",
       "         1.36366306e-01,  1.32488370e-01, -5.99695026e-01,\n",
       "        -2.22034924e-01,  4.56512628e-01]])"
      ]
     },
     "execution_count": 10,
     "metadata": {},
     "output_type": "execute_result"
    }
   ],
   "source": [
    "pca_result[1:10][1:10]"
   ]
  },
  {
   "cell_type": "code",
   "execution_count": 38,
   "metadata": {},
   "outputs": [],
   "source": [
    "pca_df = pd.DataFrame(pca_result[:,0:2], columns=['first','second'])"
   ]
  },
  {
   "cell_type": "code",
   "execution_count": 39,
   "metadata": {},
   "outputs": [
    {
     "data": {
      "text/plain": [
       "(1500, 2)"
      ]
     },
     "execution_count": 39,
     "metadata": {},
     "output_type": "execute_result"
    }
   ],
   "source": [
    "pca_df.shape"
   ]
  },
  {
   "cell_type": "code",
   "execution_count": 52,
   "metadata": {},
   "outputs": [
    {
     "data": {
      "text/plain": [
       "<matplotlib.collections.PathCollection at 0x7f2d2cc0b7f0>"
      ]
     },
     "execution_count": 52,
     "metadata": {},
     "output_type": "execute_result"
    },
    {
     "data": {
      "image/png": "[encoded data removed]",
      "text/plain": [
       "<Figure size 432x288 with 1 Axes>"
      ]
     },
     "metadata": {},
     "output_type": "display_data"
    }
   ],
   "source": [
    "plt.scatter(pca_result[:,0],pca_result[:,1])"
   ]
  },
  {
   "cell_type": "code",
   "execution_count": 42,
   "metadata": {},
   "outputs": [],
   "source": [
    "from   sklearn.manifold import TSNE, Isomap, LocallyLinearEmbedding, MDS, SpectralEmbedding"
   ]
  },
  {
   "cell_type": "code",
   "execution_count": 14,
   "metadata": {},
   "outputs": [
    {
     "ename": "ModuleNotFoundError",
     "evalue": "No module named 'ggplot'",
     "output_type": "error",
     "traceback": [
      "\u001b[0;31m---------------------------------------------------------------------------\u001b[0m",
      "\u001b[0;31mModuleNotFoundError\u001b[0m                       Traceback (most recent call last)",
      "\u001b[0;32m<ipython-input-14-ae1fcee27e51>\u001b[0m in \u001b[0;36m<module>\u001b[0;34m()\u001b[0m\n\u001b[0;32m----> 1\u001b[0;31m \u001b[0;32mfrom\u001b[0m \u001b[0mggplot\u001b[0m \u001b[0;32mimport\u001b[0m \u001b[0;34m*\u001b[0m\u001b[0;34m\u001b[0m\u001b[0;34m\u001b[0m\u001b[0m\n\u001b[0m\u001b[1;32m      2\u001b[0m \u001b[0;34m\u001b[0m\u001b[0m\n\u001b[1;32m      3\u001b[0m \u001b[0;34m\u001b[0m\u001b[0m\n\u001b[1;32m      4\u001b[0m \u001b[0mchart\u001b[0m \u001b[0;34m=\u001b[0m \u001b[0mggplot\u001b[0m\u001b[0;34m(\u001b[0m \u001b[0mdf\u001b[0m\u001b[0;34m.\u001b[0m\u001b[0mloc\u001b[0m\u001b[0;34m[\u001b[0m\u001b[0mrndperm\u001b[0m\u001b[0;34m[\u001b[0m\u001b[0;34m:\u001b[0m\u001b[0;36m3000\u001b[0m\u001b[0;34m]\u001b[0m\u001b[0;34m,\u001b[0m\u001b[0;34m:\u001b[0m\u001b[0;34m]\u001b[0m\u001b[0;34m,\u001b[0m \u001b[0maes\u001b[0m\u001b[0;34m(\u001b[0m\u001b[0mx\u001b[0m\u001b[0;34m=\u001b[0m\u001b[0;34m'pca-one'\u001b[0m\u001b[0;34m,\u001b[0m \u001b[0my\u001b[0m\u001b[0;34m=\u001b[0m\u001b[0;34m'pca-two'\u001b[0m\u001b[0;34m,\u001b[0m \u001b[0mcolor\u001b[0m\u001b[0;34m=\u001b[0m\u001b[0;34m'label'\u001b[0m\u001b[0;34m)\u001b[0m \u001b[0;34m)\u001b[0m         \u001b[0;34m+\u001b[0m \u001b[0mgeom_point\u001b[0m\u001b[0;34m(\u001b[0m\u001b[0msize\u001b[0m\u001b[0;34m=\u001b[0m\u001b[0;36m75\u001b[0m\u001b[0;34m,\u001b[0m\u001b[0malpha\u001b[0m\u001b[0;34m=\u001b[0m\u001b[0;36m0.8\u001b[0m\u001b[0;34m)\u001b[0m         \u001b[0;34m+\u001b[0m \u001b[0mggtitle\u001b[0m\u001b[0;34m(\u001b[0m\u001b[0;34m\"First and Second Principal Components colored by digit\"\u001b[0m\u001b[0;34m)\u001b[0m\u001b[0;34m\u001b[0m\u001b[0;34m\u001b[0m\u001b[0m\n\u001b[1;32m      5\u001b[0m \u001b[0mchart\u001b[0m\u001b[0;34m\u001b[0m\u001b[0;34m\u001b[0m\u001b[0m\n",
      "\u001b[0;31mModuleNotFoundError\u001b[0m: No module named 'ggplot'"
     ]
    }
   ],
   "source": [
    "from ggplot import *\n",
    "\n",
    "\n",
    "chart = ggplot( pca_result, aes(x='pca-one', y='pca-two', color='label') ) \\\n",
    "        + geom_point(size=75,alpha=0.8) \\\n",
    "        + ggtitle(\"First and Second Principal Components colored by digit\")\n",
    "chart"
   ]
  },
  {
   "cell_type": "code",
   "execution_count": 53,
   "metadata": {},
   "outputs": [
    {
     "name": "stdout",
     "output_type": "stream",
     "text": [
      "Number of clusters: 0\n"
     ]
    }
   ],
   "source": [
    "import hdbscan\n",
    "from   sklearn.preprocessing import StandardScaler\n",
    "\n",
    "clusterer = hdbscan.HDBSCAN(min_cluster_size=20)\n",
    "X_std = StandardScaler().fit_transform(pca_result)\n",
    "cluster_labels = clusterer.fit_predict(X_std) + 1\n",
    "print('Number of clusters: {}'.format(max(cluster_labels)))\n"
   ]
  },
  {
   "cell_type": "code",
   "execution_count": null,
   "metadata": {},
   "outputs": [],
   "source": [
    "do_plot(tsne3.fit_transform(X), 'HDBScan', labels=cluster_labels)"
   ]
  },
  {
   "cell_type": "code",
   "execution_count": 66,
   "metadata": {},
   "outputs": [],
   "source": [
    "tsne2 = TSNE(n_components=2, random_state=0, perplexity=50, early_exaggeration=50, verbose=2)\n",
    "tsne_res = tsne2.fit_transform(mca_data.transpose())"
   ]
  },
  {
   "cell_type": "code",
   "execution_count": 67,
   "metadata": {},
   "outputs": [
    {
     "data": {
      "text/plain": [
       "<matplotlib.collections.PathCollection at 0x7f2d2c50fa58>"
      ]
     },
     "execution_count": 67,
     "metadata": {},
     "output_type": "execute_result"
    },
    {
     "data": {
      "image/png": "[encoded data removed]",
      "text/plain": [
       "<Figure size 432x288 with 1 Axes>"
      ]
     },
     "metadata": {},
     "output_type": "display_data"
    }
   ],
   "source": [
    "plt.scatter(tsne_res[:,0],tsne_res[:,1])"
   ]
  },
  {
   "cell_type": "code",
   "execution_count": 63,
   "metadata": {},
   "outputs": [],
   "source": [
    "plt_style = 'seaborn-talk'\n",
    "def do_plot(X_fit, title=None, labels=None):\n",
    "    dimension = X_fit.shape[1]\n",
    "    label_types = sorted(list(set(labels)))\n",
    "    num_labels = len(label_types)\n",
    "    colors = cm.Accent(np.linspace(0, 1, num_labels))\n",
    "    with plt.style.context(plt_style):\n",
    "        fig = plt.figure()\n",
    "        if dimension == 2:\n",
    "            ax = fig.add_subplot(111)\n",
    "            for lab, col in zip(label_types, colors):\n",
    "                ax.scatter(X_fit[labels==lab, 0],\n",
    "                           X_fit[labels==lab, 1],\n",
    "                           c=[col])\n",
    "        elif dimension == 3:\n",
    "            ax = fig.add_subplot(111, projection='3d')\n",
    "            for lab, col in zip(label_types, colors):\n",
    "                ax.scatter(X_fit[labels==lab, 0],\n",
    "                           X_fit[labels==lab, 1],\n",
    "                           X_fit[labels==lab, 2],\n",
    "                           c=[col])\n",
    "        else:\n",
    "            raise Exception('Unknown dimension: %d' % dimension)\n",
    "        plt.title(title)\n",
    "        plt.show()"
   ]
  },
  {
   "cell_type": "code",
   "execution_count": 68,
   "metadata": {},
   "outputs": [
    {
     "data": {
      "image/png": "[encoded data removed]",
      "text/plain": [
       "<Figure size 748.8x514.8 with 1 Axes>"
      ]
     },
     "metadata": {},
     "output_type": "display_data"
    }
   ],
   "source": [
    "do_plot(tsne_res,'t-SNE',metadata[metadata['Tissue'] == 'Brain']['ClusterID'])"
   ]
  },
  {
   "cell_type": "code",
   "execution_count": 59,
   "metadata": {},
   "outputs": [
    {
     "data": {
      "text/plain": [
       "(1500, 2)"
      ]
     },
     "execution_count": 59,
     "metadata": {},
     "output_type": "execute_result"
    }
   ],
   "source": [
    "tsne_res.shape"
   ]
  },
  {
   "cell_type": "code",
   "execution_count": 38,
   "metadata": {},
   "outputs": [
    {
     "data": {
      "text/html": [
       "<div>\n",
       "<style>\n",
       "    .dataframe thead tr:only-child th {\n",
       "        text-align: right;\n",
       "    }\n",
       "\n",
       "    .dataframe thead th {\n",
       "        text-align: left;\n",
       "    }\n",
       "\n",
       "    .dataframe tbody tr th {\n",
       "        vertical-align: top;\n",
       "    }\n",
       "</style>\n",
       "<table border=\"1\" class=\"dataframe\">\n",
       "  <thead>\n",
       "    <tr style=\"text-align: right;\">\n",
       "      <th></th>\n",
       "      <th>Brain_1.TCTACCTTTAGGGAGATC</th>\n",
       "      <th>Brain_1.TAAGGGATGCTTGAATTA</th>\n",
       "      <th>Brain_1.CCAGACTGTGCGAACGCC</th>\n",
       "      <th>Brain_1.ATTCCACGTGGCCCTTTC</th>\n",
       "      <th>Brain_1.GAATTACTCCATATCTCT</th>\n",
       "      <th>Brain_1.TAGCATGAGGAGGAACGC</th>\n",
       "      <th>Brain_2.ACTTATGTATACCCTTTC</th>\n",
       "      <th>Brain_2.CGAGTAAGTTTATGCAAT</th>\n",
       "      <th>Brain_1.TAGAGAGGGCGAACCTGA</th>\n",
       "      <th>Brain_1.CTCCATAACCTAGTTGCC</th>\n",
       "      <th>...</th>\n",
       "      <th>Brain_1.TGAAGCTATGTAGCCTAG</th>\n",
       "      <th>Brain_1.GAACGCTTGGACAAAGTT</th>\n",
       "      <th>Brain_1.GACACTCCATCTCACAAG</th>\n",
       "      <th>Brain_1.GTCCCGCGCTTGTTCCGC</th>\n",
       "      <th>Brain_1.CCGCTAGCGTCCCTCCAT</th>\n",
       "      <th>Brain_1.CTCGCACGTATTCACAAG</th>\n",
       "      <th>Brain_1.CAACAACTGTGTGCTCAA</th>\n",
       "      <th>Brain_1.CTCGCAAACGCCCTTCTG</th>\n",
       "      <th>Brain_1.CATCCCGAACGCCTCGCA</th>\n",
       "      <th>Brain_1.CCGCTAGCCTAGGCCCTC</th>\n",
       "    </tr>\n",
       "  </thead>\n",
       "  <tbody>\n",
       "    <tr>\n",
       "      <th>0610005C13Rik</th>\n",
       "      <td>0</td>\n",
       "      <td>0</td>\n",
       "      <td>0</td>\n",
       "      <td>0</td>\n",
       "      <td>0</td>\n",
       "      <td>0</td>\n",
       "      <td>0</td>\n",
       "      <td>0</td>\n",
       "      <td>0</td>\n",
       "      <td>0</td>\n",
       "      <td>...</td>\n",
       "      <td>0</td>\n",
       "      <td>0</td>\n",
       "      <td>0</td>\n",
       "      <td>0</td>\n",
       "      <td>0</td>\n",
       "      <td>0</td>\n",
       "      <td>0</td>\n",
       "      <td>0</td>\n",
       "      <td>0</td>\n",
       "      <td>0</td>\n",
       "    </tr>\n",
       "    <tr>\n",
       "      <th>0610006L08Rik</th>\n",
       "      <td>0</td>\n",
       "      <td>0</td>\n",
       "      <td>0</td>\n",
       "      <td>0</td>\n",
       "      <td>0</td>\n",
       "      <td>0</td>\n",
       "      <td>0</td>\n",
       "      <td>0</td>\n",
       "      <td>0</td>\n",
       "      <td>0</td>\n",
       "      <td>...</td>\n",
       "      <td>0</td>\n",
       "      <td>0</td>\n",
       "      <td>0</td>\n",
       "      <td>0</td>\n",
       "      <td>0</td>\n",
       "      <td>0</td>\n",
       "      <td>0</td>\n",
       "      <td>0</td>\n",
       "      <td>0</td>\n",
       "      <td>0</td>\n",
       "    </tr>\n",
       "    <tr>\n",
       "      <th>0610007N19Rik</th>\n",
       "      <td>0</td>\n",
       "      <td>0</td>\n",
       "      <td>0</td>\n",
       "      <td>0</td>\n",
       "      <td>0</td>\n",
       "      <td>0</td>\n",
       "      <td>0</td>\n",
       "      <td>0</td>\n",
       "      <td>0</td>\n",
       "      <td>0</td>\n",
       "      <td>...</td>\n",
       "      <td>0</td>\n",
       "      <td>0</td>\n",
       "      <td>0</td>\n",
       "      <td>0</td>\n",
       "      <td>0</td>\n",
       "      <td>0</td>\n",
       "      <td>0</td>\n",
       "      <td>0</td>\n",
       "      <td>0</td>\n",
       "      <td>0</td>\n",
       "    </tr>\n",
       "    <tr>\n",
       "      <th>0610007P14Rik</th>\n",
       "      <td>0</td>\n",
       "      <td>0</td>\n",
       "      <td>0</td>\n",
       "      <td>0</td>\n",
       "      <td>0</td>\n",
       "      <td>0</td>\n",
       "      <td>0</td>\n",
       "      <td>0</td>\n",
       "      <td>0</td>\n",
       "      <td>0</td>\n",
       "      <td>...</td>\n",
       "      <td>0</td>\n",
       "      <td>1</td>\n",
       "      <td>0</td>\n",
       "      <td>0</td>\n",
       "      <td>0</td>\n",
       "      <td>0</td>\n",
       "      <td>0</td>\n",
       "      <td>0</td>\n",
       "      <td>1</td>\n",
       "      <td>0</td>\n",
       "    </tr>\n",
       "    <tr>\n",
       "      <th>0610009B22Rik</th>\n",
       "      <td>0</td>\n",
       "      <td>0</td>\n",
       "      <td>0</td>\n",
       "      <td>0</td>\n",
       "      <td>0</td>\n",
       "      <td>0</td>\n",
       "      <td>0</td>\n",
       "      <td>0</td>\n",
       "      <td>0</td>\n",
       "      <td>0</td>\n",
       "      <td>...</td>\n",
       "      <td>0</td>\n",
       "      <td>0</td>\n",
       "      <td>0</td>\n",
       "      <td>1</td>\n",
       "      <td>0</td>\n",
       "      <td>0</td>\n",
       "      <td>0</td>\n",
       "      <td>1</td>\n",
       "      <td>0</td>\n",
       "      <td>0</td>\n",
       "    </tr>\n",
       "  </tbody>\n",
       "</table>\n",
       "<p>5 rows × 1500 columns</p>\n",
       "</div>"
      ],
      "text/plain": [
       "               Brain_1.TCTACCTTTAGGGAGATC  Brain_1.TAAGGGATGCTTGAATTA  \\\n",
       "0610005C13Rik                           0                           0   \n",
       "0610006L08Rik                           0                           0   \n",
       "0610007N19Rik                           0                           0   \n",
       "0610007P14Rik                           0                           0   \n",
       "0610009B22Rik                           0                           0   \n",
       "\n",
       "               Brain_1.CCAGACTGTGCGAACGCC  Brain_1.ATTCCACGTGGCCCTTTC  \\\n",
       "0610005C13Rik                           0                           0   \n",
       "0610006L08Rik                           0                           0   \n",
       "0610007N19Rik                           0                           0   \n",
       "0610007P14Rik                           0                           0   \n",
       "0610009B22Rik                           0                           0   \n",
       "\n",
       "               Brain_1.GAATTACTCCATATCTCT  Brain_1.TAGCATGAGGAGGAACGC  \\\n",
       "0610005C13Rik                           0                           0   \n",
       "0610006L08Rik                           0                           0   \n",
       "0610007N19Rik                           0                           0   \n",
       "0610007P14Rik                           0                           0   \n",
       "0610009B22Rik                           0                           0   \n",
       "\n",
       "               Brain_2.ACTTATGTATACCCTTTC  Brain_2.CGAGTAAGTTTATGCAAT  \\\n",
       "0610005C13Rik                           0                           0   \n",
       "0610006L08Rik                           0                           0   \n",
       "0610007N19Rik                           0                           0   \n",
       "0610007P14Rik                           0                           0   \n",
       "0610009B22Rik                           0                           0   \n",
       "\n",
       "               Brain_1.TAGAGAGGGCGAACCTGA  Brain_1.CTCCATAACCTAGTTGCC  \\\n",
       "0610005C13Rik                           0                           0   \n",
       "0610006L08Rik                           0                           0   \n",
       "0610007N19Rik                           0                           0   \n",
       "0610007P14Rik                           0                           0   \n",
       "0610009B22Rik                           0                           0   \n",
       "\n",
       "                          ...              Brain_1.TGAAGCTATGTAGCCTAG  \\\n",
       "0610005C13Rik             ...                                       0   \n",
       "0610006L08Rik             ...                                       0   \n",
       "0610007N19Rik             ...                                       0   \n",
       "0610007P14Rik             ...                                       0   \n",
       "0610009B22Rik             ...                                       0   \n",
       "\n",
       "               Brain_1.GAACGCTTGGACAAAGTT  Brain_1.GACACTCCATCTCACAAG  \\\n",
       "0610005C13Rik                           0                           0   \n",
       "0610006L08Rik                           0                           0   \n",
       "0610007N19Rik                           0                           0   \n",
       "0610007P14Rik                           1                           0   \n",
       "0610009B22Rik                           0                           0   \n",
       "\n",
       "               Brain_1.GTCCCGCGCTTGTTCCGC  Brain_1.CCGCTAGCGTCCCTCCAT  \\\n",
       "0610005C13Rik                           0                           0   \n",
       "0610006L08Rik                           0                           0   \n",
       "0610007N19Rik                           0                           0   \n",
       "0610007P14Rik                           0                           0   \n",
       "0610009B22Rik                           1                           0   \n",
       "\n",
       "               Brain_1.CTCGCACGTATTCACAAG  Brain_1.CAACAACTGTGTGCTCAA  \\\n",
       "0610005C13Rik                           0                           0   \n",
       "0610006L08Rik                           0                           0   \n",
       "0610007N19Rik                           0                           0   \n",
       "0610007P14Rik                           0                           0   \n",
       "0610009B22Rik                           0                           0   \n",
       "\n",
       "               Brain_1.CTCGCAAACGCCCTTCTG  Brain_1.CATCCCGAACGCCTCGCA  \\\n",
       "0610005C13Rik                           0                           0   \n",
       "0610006L08Rik                           0                           0   \n",
       "0610007N19Rik                           0                           0   \n",
       "0610007P14Rik                           0                           1   \n",
       "0610009B22Rik                           1                           0   \n",
       "\n",
       "               Brain_1.CCGCTAGCCTAGGCCCTC  \n",
       "0610005C13Rik                           0  \n",
       "0610006L08Rik                           0  \n",
       "0610007N19Rik                           0  \n",
       "0610007P14Rik                           0  \n",
       "0610009B22Rik                           0  \n",
       "\n",
       "[5 rows x 1500 columns]"
      ]
     },
     "execution_count": 38,
     "metadata": {},
     "output_type": "execute_result"
    }
   ],
   "source": [
    "mca_data.head()"
   ]
  },
  {
   "cell_type": "code",
   "execution_count": 39,
   "metadata": {},
   "outputs": [
    {
     "data": {
      "text/plain": [
       "(25133, 1500)"
      ]
     },
     "execution_count": 39,
     "metadata": {},
     "output_type": "execute_result"
    }
   ],
   "source": [
    "mca_data.shape"
   ]
  },
  {
   "cell_type": "code",
   "execution_count": null,
   "metadata": {},
   "outputs": [],
   "source": [
    "# \"http://bis.zju.edu.cn/MCA/data/tissues/{tissue}/tsne_{tissue}.csv\".format(tissue='Brain')\n",
    "# \"http://bis.zju.edu.cn/MCA/data/tissues/{tissue}/mca_top_markers_{tissue}.json\".format(tissue='Brain')\n"
   ]
  },
  {
   "cell_type": "code",
   "execution_count": 69,
   "metadata": {},
   "outputs": [],
   "source": [
    "tsne_Brain = pd.read_csv('../data/tsne_Brain.csv')"
   ]
  },
  {
   "cell_type": "code",
   "execution_count": 70,
   "metadata": {},
   "outputs": [
    {
     "data": {
      "text/html": [
       "<div>\n",
       "<style scoped>\n",
       "    .dataframe tbody tr th:only-of-type {\n",
       "        vertical-align: middle;\n",
       "    }\n",
       "\n",
       "    .dataframe tbody tr th {\n",
       "        vertical-align: top;\n",
       "    }\n",
       "\n",
       "    .dataframe thead th {\n",
       "        text-align: right;\n",
       "    }\n",
       "</style>\n",
       "<table border=\"1\" class=\"dataframe\">\n",
       "  <thead>\n",
       "    <tr style=\"text-align: right;\">\n",
       "      <th></th>\n",
       "      <th>tsne1</th>\n",
       "      <th>tsne2</th>\n",
       "      <th>label</th>\n",
       "      <th>anno</th>\n",
       "    </tr>\n",
       "  </thead>\n",
       "  <tbody>\n",
       "    <tr>\n",
       "      <th>0</th>\n",
       "      <td>58.516113</td>\n",
       "      <td>73.333178</td>\n",
       "      <td>12</td>\n",
       "      <td>Schwann cell(Brain)</td>\n",
       "    </tr>\n",
       "    <tr>\n",
       "      <th>1</th>\n",
       "      <td>57.916962</td>\n",
       "      <td>73.263551</td>\n",
       "      <td>12</td>\n",
       "      <td>Schwann cell(Brain)</td>\n",
       "    </tr>\n",
       "    <tr>\n",
       "      <th>2</th>\n",
       "      <td>57.518348</td>\n",
       "      <td>73.535935</td>\n",
       "      <td>12</td>\n",
       "      <td>Schwann cell(Brain)</td>\n",
       "    </tr>\n",
       "    <tr>\n",
       "      <th>3</th>\n",
       "      <td>57.284305</td>\n",
       "      <td>73.428998</td>\n",
       "      <td>12</td>\n",
       "      <td>Schwann cell(Brain)</td>\n",
       "    </tr>\n",
       "    <tr>\n",
       "      <th>4</th>\n",
       "      <td>56.672104</td>\n",
       "      <td>73.222097</td>\n",
       "      <td>12</td>\n",
       "      <td>Schwann cell(Brain)</td>\n",
       "    </tr>\n",
       "  </tbody>\n",
       "</table>\n",
       "</div>"
      ],
      "text/plain": [
       "       tsne1      tsne2  label                 anno\n",
       "0  58.516113  73.333178     12  Schwann cell(Brain)\n",
       "1  57.916962  73.263551     12  Schwann cell(Brain)\n",
       "2  57.518348  73.535935     12  Schwann cell(Brain)\n",
       "3  57.284305  73.428998     12  Schwann cell(Brain)\n",
       "4  56.672104  73.222097     12  Schwann cell(Brain)"
      ]
     },
     "execution_count": 70,
     "metadata": {},
     "output_type": "execute_result"
    }
   ],
   "source": [
    "tsne_Brain.head()"
   ]
  },
  {
   "cell_type": "code",
   "execution_count": 78,
   "metadata": {},
   "outputs": [
    {
     "data": {
      "image/png": "[encoded data removed]",
      "text/plain": [
       "<Figure size 748.8x514.8 with 1 Axes>"
      ]
     },
     "metadata": {},
     "output_type": "display_data"
    }
   ],
   "source": [
    "do_plot(tsne_Brain[['tsne1','tsne2']].values,'t-SNE',tsne_Brain[\"label\"])"
   ]
  },
  {
   "cell_type": "code",
   "execution_count": 80,
   "metadata": {},
   "outputs": [
    {
     "data": {
      "text/plain": [
       "(4038, 4)"
      ]
     },
     "execution_count": 80,
     "metadata": {},
     "output_type": "execute_result"
    }
   ],
   "source": [
    "tsne_Brain.shape"
   ]
  },
  {
   "cell_type": "code",
   "execution_count": null,
   "metadata": {},
   "outputs": [],
   "source": []
  }
 ],
 "metadata": {
  "kernelspec": {
   "display_name": "Tesis",
   "language": "python",
   "name": "tesis"
  },
  "language_info": {
   "codemirror_mode": {
    "name": "ipython",
    "version": 3
   },
   "file_extension": ".py",
   "mimetype": "text/x-python",
   "name": "python",
   "nbconvert_exporter": "python",
   "pygments_lexer": "ipython3",
   "version": "3.6.7"
  }
 },
 "nbformat": 4,
 "nbformat_minor": 2
}
