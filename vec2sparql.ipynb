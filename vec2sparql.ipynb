{
 "cells": [
  {
   "cell_type": "code",
   "execution_count": 38,
   "metadata": {},
   "outputs": [],
   "source": [
    "import requests\n",
    "import pandas as pd\n",
    "\n",
    "sparql_endpoint = 'https://sparql.uniprot.org/sparql'"
   ]
  },
  {
   "cell_type": "code",
   "execution_count": 52,
   "metadata": {},
   "outputs": [],
   "source": [
    "protein_id = 'A4_HUMAN'"
   ]
  },
  {
   "cell_type": "code",
   "execution_count": 39,
   "metadata": {},
   "outputs": [],
   "source": [
    "query = '''\n",
    "PREFIX up:<http://purl.uniprot.org/core/> \n",
    "PREFIX taxon:<http://purl.uniprot.org/taxonomy/> \n",
    "PREFIX rdfs:<http://www.w3.org/2000/01/rdf-schema#> \n",
    "PREFIX b2v: <http://bio2vec.net/function#>\n",
    "PREFIX b2vd: <http://bio2vec.net/dataset#>\n",
    "PREFIX keywords:<http://purl.uniprot.org/keywords/> \n",
    "\n",
    "SELECT ?protein ?simprotein ?preferredGeneName ?val ?x ?y\n",
    "WHERE\n",
    "{{\n",
    "\t?protein a up:Protein . \n",
    "\t?protein up:mnemonic \"{protein_id}\" .\n",
    "    SERVICE <http://test.bio2vec.net/ds/query> {{\n",
    "\t  (?simprotein ?val ?x ?y) b2v:mostSimilar(b2vd:dataset_2 ?protein 10) .\n",
    "    }}\n",
    "    ?simprotein up:encodedBy ?gene .\n",
    "    ?gene skos:prefLabel ?preferredGeneName .\n",
    "}}'''.format(protein_id=\"A4_HUMAN\")"
   ]
  },
  {
   "cell_type": "code",
   "execution_count": 40,
   "metadata": {},
   "outputs": [],
   "source": [
    "r = requests.get(sparql_endpoint, params = {'format': 'json', 'query': query})\n",
    "data = r.json()\n"
   ]
  },
  {
   "cell_type": "code",
   "execution_count": 43,
   "metadata": {},
   "outputs": [
    {
     "data": {
      "text/plain": [
       "{'preferredGeneName': {'type': 'literal', 'value': 'Abl1'},\n",
       " 'val': {'datatype': 'http://www.w3.org/2001/XMLSchema#double',\n",
       "  'type': 'literal',\n",
       "  'value': '0.9369618'},\n",
       " 'protein': {'type': 'uri', 'value': 'http://purl.uniprot.org/uniprot/P05067'},\n",
       " 'simprotein': {'type': 'uri',\n",
       "  'value': 'http://purl.uniprot.org/uniprot/P00520'},\n",
       " 'x': {'datatype': 'http://www.w3.org/2001/XMLSchema#double',\n",
       "  'type': 'literal',\n",
       "  'value': '2.577185326113727'},\n",
       " 'y': {'datatype': 'http://www.w3.org/2001/XMLSchema#double',\n",
       "  'type': 'literal',\n",
       "  'value': '1.204715956971605'}}"
      ]
     },
     "execution_count": 43,
     "metadata": {},
     "output_type": "execute_result"
    }
   ],
   "source": [
    "data['results']['bindings'][2]"
   ]
  },
  {
   "cell_type": "code",
   "execution_count": 47,
   "metadata": {},
   "outputs": [],
   "source": [
    "from collections import OrderedDict\n",
    "\n",
    "proteins = []\n",
    "for item in data['results']['bindings']:\n",
    "    proteins.append(OrderedDict({\n",
    "        'protein': item['protein']['value'],\n",
    "        'gene': item['preferredGeneName']['value'],\n",
    "        'x': float(item['x']['value']),\n",
    "        'y': float(item['y']['value'])},\n",
    "    ))"
   ]
  },
  {
   "cell_type": "code",
   "execution_count": 48,
   "metadata": {},
   "outputs": [],
   "source": [
    "proteins = pd.DataFrame(proteins)\n"
   ]
  },
  {
   "cell_type": "code",
   "execution_count": 49,
   "metadata": {},
   "outputs": [
    {
     "data": {
      "text/html": [
       "<div>\n",
       "<style scoped>\n",
       "    .dataframe tbody tr th:only-of-type {\n",
       "        vertical-align: middle;\n",
       "    }\n",
       "\n",
       "    .dataframe tbody tr th {\n",
       "        vertical-align: top;\n",
       "    }\n",
       "\n",
       "    .dataframe thead th {\n",
       "        text-align: right;\n",
       "    }\n",
       "</style>\n",
       "<table border=\"1\" class=\"dataframe\">\n",
       "  <thead>\n",
       "    <tr style=\"text-align: right;\">\n",
       "      <th></th>\n",
       "      <th>protein</th>\n",
       "      <th>gene</th>\n",
       "      <th>x</th>\n",
       "      <th>y</th>\n",
       "    </tr>\n",
       "  </thead>\n",
       "  <tbody>\n",
       "    <tr>\n",
       "      <th>0</th>\n",
       "      <td>http://purl.uniprot.org/uniprot/P05067</td>\n",
       "      <td>APP</td>\n",
       "      <td>2.493301</td>\n",
       "      <td>0.996111</td>\n",
       "    </tr>\n",
       "    <tr>\n",
       "      <th>1</th>\n",
       "      <td>http://purl.uniprot.org/uniprot/P05067</td>\n",
       "      <td>App</td>\n",
       "      <td>2.606638</td>\n",
       "      <td>1.140107</td>\n",
       "    </tr>\n",
       "    <tr>\n",
       "      <th>2</th>\n",
       "      <td>http://purl.uniprot.org/uniprot/P05067</td>\n",
       "      <td>Abl1</td>\n",
       "      <td>2.577185</td>\n",
       "      <td>1.204716</td>\n",
       "    </tr>\n",
       "    <tr>\n",
       "      <th>3</th>\n",
       "      <td>http://purl.uniprot.org/uniprot/P05067</td>\n",
       "      <td>CD34</td>\n",
       "      <td>2.076935</td>\n",
       "      <td>0.914940</td>\n",
       "    </tr>\n",
       "    <tr>\n",
       "      <th>4</th>\n",
       "      <td>http://purl.uniprot.org/uniprot/P05067</td>\n",
       "      <td>Fgfr1</td>\n",
       "      <td>2.450249</td>\n",
       "      <td>1.210032</td>\n",
       "    </tr>\n",
       "  </tbody>\n",
       "</table>\n",
       "</div>"
      ],
      "text/plain": [
       "                                  protein   gene         x         y\n",
       "0  http://purl.uniprot.org/uniprot/P05067    APP  2.493301  0.996111\n",
       "1  http://purl.uniprot.org/uniprot/P05067    App  2.606638  1.140107\n",
       "2  http://purl.uniprot.org/uniprot/P05067   Abl1  2.577185  1.204716\n",
       "3  http://purl.uniprot.org/uniprot/P05067   CD34  2.076935  0.914940\n",
       "4  http://purl.uniprot.org/uniprot/P05067  Fgfr1  2.450249  1.210032"
      ]
     },
     "execution_count": 49,
     "metadata": {},
     "output_type": "execute_result"
    }
   ],
   "source": [
    "proteins.head()"
   ]
  },
  {
   "cell_type": "code",
   "execution_count": 50,
   "metadata": {},
   "outputs": [
    {
     "name": "stdout",
     "output_type": "stream",
     "text": [
      "Populating the interactive namespace from numpy and matplotlib\n"
     ]
    }
   ],
   "source": [
    "%pylab inline\n",
    "pylab.rcParams['figure.figsize'] = (15, 6)\n",
    "import matplotlib.pyplot as plt"
   ]
  },
  {
   "cell_type": "code",
   "execution_count": 30,
   "metadata": {},
   "outputs": [
    {
     "data": {
      "text/plain": [
       "<matplotlib.collections.PathCollection at 0x7f4f2d63f240>"
      ]
     },
     "execution_count": 30,
     "metadata": {},
     "output_type": "execute_result"
    },
    {
     "data": {
      "image/png": "[encoded data removed]",
      "text/plain": [
       "<Figure size 432x288 with 1 Axes>"
      ]
     },
     "metadata": {},
     "output_type": "display_data"
    }
   ],
   "source": [
    "plt.scatter(proteins['x'],proteins['y'])"
   ]
  },
  {
   "cell_type": "code",
   "execution_count": 58,
   "metadata": {},
   "outputs": [
    {
     "data": {
      "image/png": "[encoded data removed]",
      "text/plain": [
       "<Figure size 1080x432 with 1 Axes>"
      ]
     },
     "metadata": {},
     "output_type": "display_data"
    }
   ],
   "source": [
    "fig, ax = plt.subplots()\n",
    "ax.scatter(proteins['x'],proteins['y'])\n",
    "ax.annotate(\"A4_HUMAN\", (proteins['x'][0], proteins['y'][0]), color='red')\n",
    "for i, genename in enumerate(proteins['gene']):\n",
    "    ax.annotate(genename, (proteins['x'][i], proteins['y'][i]))"
   ]
  },
  {
   "cell_type": "code",
   "execution_count": null,
   "metadata": {},
   "outputs": [],
   "source": []
  }
 ],
 "metadata": {
  "kernelspec": {
   "display_name": "Tesis",
   "language": "python",
   "name": "tesis"
  },
  "language_info": {
   "codemirror_mode": {
    "name": "ipython",
    "version": 3
   },
   "file_extension": ".py",
   "mimetype": "text/x-python",
   "name": "python",
   "nbconvert_exporter": "python",
   "pygments_lexer": "ipython3",
   "version": "3.6.7"
  }
 },
 "nbformat": 4,
 "nbformat_minor": 2
}
